{
  "nbformat": 4,
  "nbformat_minor": 0,
  "metadata": {
    "colab": {
      "provenance": [],
      "collapsed_sections": [
        "oCgg75yTPJFL",
        "DrrOEdvbxLLj",
        "cKH8VKfsx7SA",
        "RMn6bOZxHtUl"
      ],
      "authorship_tag": "ABX9TyPltl6w8tBgMIab1QubO+/N",
      "include_colab_link": true
    },
    "kernelspec": {
      "name": "python3",
      "display_name": "Python 3"
    },
    "language_info": {
      "name": "python"
    }
  },
  "cells": [
    {
      "cell_type": "markdown",
      "metadata": {
        "id": "view-in-github",
        "colab_type": "text"
      },
      "source": [
        "<a href=\"https://colab.research.google.com/github/Jihyun-Eun/Python-ML-Bio/blob/main/Predicting_Hospital_Readmission_with_Diabetes_Dataset.ipynb\" target=\"_parent\"><img src=\"https://colab.research.google.com/assets/colab-badge.svg\" alt=\"Open In Colab\"/></a>"
      ]
    },
    {
      "cell_type": "markdown",
      "source": [
        "### This project is based on \"Prediction on Hospital Readmission\" project by ABHISHEK SHARMA\n",
        "\n",
        "https://www.kaggle.com/code/iabhishekofficial/prediction-on-hospital-readmission#Data-Preparation-&-Exploration\n",
        "\n",
        "You can get more information from the link above.\n",
        "(I modified some of codes.)\n",
        "\n",
        "##About the dataset\n",
        "\n",
        "\"Diabetes 130 US hospitals for years 1999-2008\"\n",
        "Diabetes - readmission\n",
        "\n",
        "https://www.kaggle.com/datasets/brandao/diabetes/code\n",
        "\n",
        "\"The data contains such attributes as patient number, race, gender, age, admission type, time in hospital, medical specialty of admitting physician, number of lab test performed, HbA1c test result, diagnosis, number of medication, diabetic medications, number of outpatient, inpatient, and emergency visits in the year before the hospitalization, etc.\"\n",
        "\n",
        "You can get more information on the following research article.\n",
        "\"Impact of HbA1c Measurement on Hospital Readmission Rates:Analysis of 70,000 Clinical Database Patient Records\"\n",
        "\n",
        "##Goal\n",
        "\n",
        "1. What factors are the strongest predictors of hospital readmission in diabetic patients?\n",
        "2. How well can we predict hospital readmission in this dataset with limited features?\n",
        "\n",
        "\n"
      ],
      "metadata": {
        "id": "GFJFVwgF8VU8"
      }
    },
    {
      "cell_type": "markdown",
      "source": [
        "##Variables\n",
        "\n",
        "\n"
      ],
      "metadata": {
        "id": "oCgg75yTPJFL"
      }
    },
    {
      "cell_type": "markdown",
      "source": [
        "**Encounter ID** Unique identifier of an encounter\n",
        "\n",
        "**Patient number** Unique identifier of a patient\n",
        "\n",
        "**Race Values** Caucasian, Asian, African American, Hispanic, and other\n",
        "\n",
        "**Gender Values** male, female, and unknown/invalid\n",
        "\n",
        "**Age** Grouped in 10-year intervals: 0, 10), 10, 20), …, 90, 100)\n",
        "\n",
        "**Weight** Weight in pounds\n",
        "\n",
        "**Admission type** Integer identifier corresponding to 9 distinct values, for example, emergency, urgent, elective, newborn, and not available\n",
        "\n",
        "**Discharge disposition** Integer identifier corresponding to 29 distinct values, for example, discharged to home, expired, and not available\n",
        "\n",
        "**Admission source** Integer identifier corresponding to 21 distinct values, for example, physician referral, emergency room, and transfer from a hospital\n",
        "\n",
        "**Time in hospital** Integer number of days between admission and discharge\n",
        "\n",
        "**Payer code** Integer identifier corresponding to 23 distinct values, for example, Blue Cross/Blue Shield, Medicare, and self-pay Medical\n",
        "\n",
        "**Medical specialty** Integer identifier of a specialty of the admitting physician, corresponding to 84 distinct values, for example, cardiology, internal medicine, family/general practice, and surgeon\n",
        "\n",
        "**Number of lab procedures** Number of lab tests performed during the encounter\n",
        "\n",
        "**Number of procedures** Numeric Number of procedures (other than lab tests) performed during the encounter\n",
        "\n",
        "**Number of medications** Number of distinct generic names administered during the encounter\n",
        "\n",
        "**Number of outpatient visits** Number of outpatient visits of the patient in the year preceding the encounter\n",
        "\n",
        "**Number of emergency visits** Number of emergency visits of the patient in the year preceding the encounter\n",
        "\n",
        "**Number of inpatient visits** Number of inpatient visits of the patient in the year preceding the encounter\n",
        "\n",
        "**Diagnosis 1** The primary diagnosis (coded as first three digits of ICD9); 848 distinct values\n",
        "\n",
        "**Diagnosis 2** Secondary diagnosis (coded as first three digits of ICD9); 923 distinct values\n",
        "\n",
        "**Diagnosis 3** Additional secondary diagnosis (coded as first three digits of ICD9); 954 distinct values\n",
        "\n",
        "**Number of diagnoses** Number of diagnoses entered to the system 0%\n",
        "\n",
        "**Glucose serum test result** Indicates the range of the result or if the test was not taken.\n",
        "* “>200,” “>300,” “normal,” and “none” if not measured\n",
        "\n",
        "**A1c test result** Indicates the range of the result or if the test was not taken.\n",
        "* “>8” if the result was greater than 8%\n",
        "*“>7” if the result was greater than 7% but less than 8%\n",
        "*“normal” if the result was less than 7%,\n",
        "*“none” if not measured.\n",
        "\n",
        "**Change of medications** Indicates if there was a change in diabetic medications (either dosage or generic name). Values: “change” and “no change”\n",
        "\n",
        "**Diabetes medications** Indicates if there was any diabetic medication prescribed. “yes” and “no”\n",
        "\n",
        "**24 features for medications**\n",
        "\n",
        "For the generic names: metformin, repaglinide, nateglinide, chlorpropamide, glimepiride, acetohexamide, glipizide, glyburide, tolbutamide, pioglitazone, rosiglitazone, acarbose, miglitol, troglitazone, tolazamide, examide, sitagliptin, insulin, glyburide-metformin, glipizide-metformin, glimepiride- pioglitazone, metformin-rosiglitazone, and metformin- pioglitazone.\n",
        "\n",
        "The feature indicates whether the drug was prescribed or there was a change in the dosage.\n",
        "\n",
        "* “up” if the dosage was increased during the encounter,\n",
        "\n",
        "* “down” if the dosage was decreased,\n",
        "\n",
        "* “steady” if the dosage did not change\n",
        "\n",
        "* “no” if the drug was not prescribed\n",
        "\n",
        "**Readmitted Days to inpatient readmission.**\n",
        "\n",
        "*   “<30” if the patient was readmitted in less than 30 days\n",
        "*   “>30” if the patient was readmitted in more than 30 days\n",
        "*    “No” for no record of readmission\n",
        "\n",
        "\n",
        "\n",
        "\n",
        "\n",
        "\n"
      ],
      "metadata": {
        "id": "nUQT4IihT9b-"
      }
    },
    {
      "cell_type": "markdown",
      "source": [
        "##Data Cleansing"
      ],
      "metadata": {
        "id": "BMPDxuADKsPE"
      }
    },
    {
      "cell_type": "markdown",
      "source": [
        "###Loading and Checking Data"
      ],
      "metadata": {
        "id": "KuExL9GwyfHE"
      }
    },
    {
      "cell_type": "code",
      "execution_count": 35,
      "metadata": {
        "id": "zB1oEjoZ2IwU"
      },
      "outputs": [],
      "source": [
        "#Loading libraries\n",
        "import pandas as pd\n",
        "import numpy as np\n",
        "import matplotlib.pyplot as plt\n",
        "import seaborn as sns"
      ]
    },
    {
      "cell_type": "code",
      "source": [
        "#loading Dataset\n",
        "df = pd.read_csv(\"/content/diabetic_data.csv\")\n",
        "df.head(10).T"
      ],
      "metadata": {
        "colab": {
          "base_uri": "https://localhost:8080/",
          "height": 1000
        },
        "id": "qLDyul9__jLp",
        "outputId": "df8dd4cd-b28a-4ce0-f0ff-27cecf2456ce"
      },
      "execution_count": 36,
      "outputs": [
        {
          "output_type": "execute_result",
          "data": {
            "text/plain": [
              "                                                 0          1  \\\n",
              "encounter_id                               2278392     149190   \n",
              "patient_nbr                                8222157   55629189   \n",
              "race                                     Caucasian  Caucasian   \n",
              "gender                                      Female     Female   \n",
              "age                                         [0-10)    [10-20)   \n",
              "weight                                           ?          ?   \n",
              "admission_type_id                                6          1   \n",
              "discharge_disposition_id                        25          1   \n",
              "admission_source_id                              1          7   \n",
              "time_in_hospital                                 1          3   \n",
              "payer_code                                       ?          ?   \n",
              "medical_specialty         Pediatrics-Endocrinology          ?   \n",
              "num_lab_procedures                              41         59   \n",
              "num_procedures                                   0          0   \n",
              "num_medications                                  1         18   \n",
              "number_outpatient                                0          0   \n",
              "number_emergency                                 0          0   \n",
              "number_inpatient                                 0          0   \n",
              "diag_1                                      250.83        276   \n",
              "diag_2                                           ?     250.01   \n",
              "diag_3                                           ?        255   \n",
              "number_diagnoses                                 1          9   \n",
              "max_glu_serum                                 None       None   \n",
              "A1Cresult                                     None       None   \n",
              "metformin                                       No         No   \n",
              "repaglinide                                     No         No   \n",
              "nateglinide                                     No         No   \n",
              "chlorpropamide                                  No         No   \n",
              "glimepiride                                     No         No   \n",
              "acetohexamide                                   No         No   \n",
              "glipizide                                       No         No   \n",
              "glyburide                                       No         No   \n",
              "tolbutamide                                     No         No   \n",
              "pioglitazone                                    No         No   \n",
              "rosiglitazone                                   No         No   \n",
              "acarbose                                        No         No   \n",
              "miglitol                                        No         No   \n",
              "troglitazone                                    No         No   \n",
              "tolazamide                                      No         No   \n",
              "examide                                         No         No   \n",
              "citoglipton                                     No         No   \n",
              "insulin                                         No         Up   \n",
              "glyburide-metformin                             No         No   \n",
              "glipizide-metformin                             No         No   \n",
              "glimepiride-pioglitazone                        No         No   \n",
              "metformin-rosiglitazone                         No         No   \n",
              "metformin-pioglitazone                          No         No   \n",
              "change                                          No         Ch   \n",
              "diabetesMed                                     No        Yes   \n",
              "readmitted                                      NO        >30   \n",
              "\n",
              "                                        2          3          4          5  \\\n",
              "encounter_id                        64410     500364      16680      35754   \n",
              "patient_nbr                      86047875   82442376   42519267   82637451   \n",
              "race                      AfricanAmerican  Caucasian  Caucasian  Caucasian   \n",
              "gender                             Female       Male       Male       Male   \n",
              "age                               [20-30)    [30-40)    [40-50)    [50-60)   \n",
              "weight                                  ?          ?          ?          ?   \n",
              "admission_type_id                       1          1          1          2   \n",
              "discharge_disposition_id                1          1          1          1   \n",
              "admission_source_id                     7          7          7          2   \n",
              "time_in_hospital                        2          2          1          3   \n",
              "payer_code                              ?          ?          ?          ?   \n",
              "medical_specialty                       ?          ?          ?          ?   \n",
              "num_lab_procedures                     11         44         51         31   \n",
              "num_procedures                          5          1          0          6   \n",
              "num_medications                        13         16          8         16   \n",
              "number_outpatient                       2          0          0          0   \n",
              "number_emergency                        0          0          0          0   \n",
              "number_inpatient                        1          0          0          0   \n",
              "diag_1                                648          8        197        414   \n",
              "diag_2                                250     250.43        157        411   \n",
              "diag_3                                V27        403        250        250   \n",
              "number_diagnoses                        6          7          5          9   \n",
              "max_glu_serum                        None       None       None       None   \n",
              "A1Cresult                            None       None       None       None   \n",
              "metformin                              No         No         No         No   \n",
              "repaglinide                            No         No         No         No   \n",
              "nateglinide                            No         No         No         No   \n",
              "chlorpropamide                         No         No         No         No   \n",
              "glimepiride                            No         No         No         No   \n",
              "acetohexamide                          No         No         No         No   \n",
              "glipizide                          Steady         No     Steady         No   \n",
              "glyburide                              No         No         No         No   \n",
              "tolbutamide                            No         No         No         No   \n",
              "pioglitazone                           No         No         No         No   \n",
              "rosiglitazone                          No         No         No         No   \n",
              "acarbose                               No         No         No         No   \n",
              "miglitol                               No         No         No         No   \n",
              "troglitazone                           No         No         No         No   \n",
              "tolazamide                             No         No         No         No   \n",
              "examide                                No         No         No         No   \n",
              "citoglipton                            No         No         No         No   \n",
              "insulin                                No         Up     Steady     Steady   \n",
              "glyburide-metformin                    No         No         No         No   \n",
              "glipizide-metformin                    No         No         No         No   \n",
              "glimepiride-pioglitazone               No         No         No         No   \n",
              "metformin-rosiglitazone                No         No         No         No   \n",
              "metformin-pioglitazone                 No         No         No         No   \n",
              "change                                 No         Ch         Ch         No   \n",
              "diabetesMed                           Yes        Yes        Yes        Yes   \n",
              "readmitted                             NO         NO         NO        >30   \n",
              "\n",
              "                                  6          7          8                 9  \n",
              "encounter_id                  55842      63768      12522             15738  \n",
              "patient_nbr                84259809  114882984   48330783          63555939  \n",
              "race                      Caucasian  Caucasian  Caucasian         Caucasian  \n",
              "gender                         Male       Male     Female            Female  \n",
              "age                         [60-70)    [70-80)    [80-90)          [90-100)  \n",
              "weight                            ?          ?          ?                 ?  \n",
              "admission_type_id                 3          1          2                 3  \n",
              "discharge_disposition_id          1          1          1                 3  \n",
              "admission_source_id               2          7          4                 4  \n",
              "time_in_hospital                  4          5         13                12  \n",
              "payer_code                        ?          ?          ?                 ?  \n",
              "medical_specialty                 ?          ?          ?  InternalMedicine  \n",
              "num_lab_procedures               70         73         68                33  \n",
              "num_procedures                    1          0          2                 3  \n",
              "num_medications                  21         12         28                18  \n",
              "number_outpatient                 0          0          0                 0  \n",
              "number_emergency                  0          0          0                 0  \n",
              "number_inpatient                  0          0          0                 0  \n",
              "diag_1                          414        428        398               434  \n",
              "diag_2                          411        492        427               198  \n",
              "diag_3                          V45        250         38               486  \n",
              "number_diagnoses                  7          8          8                 8  \n",
              "max_glu_serum                  None       None       None              None  \n",
              "A1Cresult                      None       None       None              None  \n",
              "metformin                    Steady         No         No                No  \n",
              "repaglinide                      No         No         No                No  \n",
              "nateglinide                      No         No         No                No  \n",
              "chlorpropamide                   No         No         No                No  \n",
              "glimepiride                  Steady         No         No                No  \n",
              "acetohexamide                    No         No         No                No  \n",
              "glipizide                        No         No     Steady                No  \n",
              "glyburide                        No     Steady         No                No  \n",
              "tolbutamide                      No         No         No                No  \n",
              "pioglitazone                     No         No         No                No  \n",
              "rosiglitazone                    No         No         No            Steady  \n",
              "acarbose                         No         No         No                No  \n",
              "miglitol                         No         No         No                No  \n",
              "troglitazone                     No         No         No                No  \n",
              "tolazamide                       No         No         No                No  \n",
              "examide                          No         No         No                No  \n",
              "citoglipton                      No         No         No                No  \n",
              "insulin                      Steady         No     Steady            Steady  \n",
              "glyburide-metformin              No         No         No                No  \n",
              "glipizide-metformin              No         No         No                No  \n",
              "glimepiride-pioglitazone         No         No         No                No  \n",
              "metformin-rosiglitazone          No         No         No                No  \n",
              "metformin-pioglitazone           No         No         No                No  \n",
              "change                           Ch         No         Ch                Ch  \n",
              "diabetesMed                     Yes        Yes        Yes               Yes  \n",
              "readmitted                       NO        >30         NO                NO  "
            ],
            "text/html": [
              "\n",
              "\n",
              "  <div id=\"df-61784236-3f73-44fd-81fc-69d1b5dc409a\">\n",
              "    <div class=\"colab-df-container\">\n",
              "      <div>\n",
              "<style scoped>\n",
              "    .dataframe tbody tr th:only-of-type {\n",
              "        vertical-align: middle;\n",
              "    }\n",
              "\n",
              "    .dataframe tbody tr th {\n",
              "        vertical-align: top;\n",
              "    }\n",
              "\n",
              "    .dataframe thead th {\n",
              "        text-align: right;\n",
              "    }\n",
              "</style>\n",
              "<table border=\"1\" class=\"dataframe\">\n",
              "  <thead>\n",
              "    <tr style=\"text-align: right;\">\n",
              "      <th></th>\n",
              "      <th>0</th>\n",
              "      <th>1</th>\n",
              "      <th>2</th>\n",
              "      <th>3</th>\n",
              "      <th>4</th>\n",
              "      <th>5</th>\n",
              "      <th>6</th>\n",
              "      <th>7</th>\n",
              "      <th>8</th>\n",
              "      <th>9</th>\n",
              "    </tr>\n",
              "  </thead>\n",
              "  <tbody>\n",
              "    <tr>\n",
              "      <th>encounter_id</th>\n",
              "      <td>2278392</td>\n",
              "      <td>149190</td>\n",
              "      <td>64410</td>\n",
              "      <td>500364</td>\n",
              "      <td>16680</td>\n",
              "      <td>35754</td>\n",
              "      <td>55842</td>\n",
              "      <td>63768</td>\n",
              "      <td>12522</td>\n",
              "      <td>15738</td>\n",
              "    </tr>\n",
              "    <tr>\n",
              "      <th>patient_nbr</th>\n",
              "      <td>8222157</td>\n",
              "      <td>55629189</td>\n",
              "      <td>86047875</td>\n",
              "      <td>82442376</td>\n",
              "      <td>42519267</td>\n",
              "      <td>82637451</td>\n",
              "      <td>84259809</td>\n",
              "      <td>114882984</td>\n",
              "      <td>48330783</td>\n",
              "      <td>63555939</td>\n",
              "    </tr>\n",
              "    <tr>\n",
              "      <th>race</th>\n",
              "      <td>Caucasian</td>\n",
              "      <td>Caucasian</td>\n",
              "      <td>AfricanAmerican</td>\n",
              "      <td>Caucasian</td>\n",
              "      <td>Caucasian</td>\n",
              "      <td>Caucasian</td>\n",
              "      <td>Caucasian</td>\n",
              "      <td>Caucasian</td>\n",
              "      <td>Caucasian</td>\n",
              "      <td>Caucasian</td>\n",
              "    </tr>\n",
              "    <tr>\n",
              "      <th>gender</th>\n",
              "      <td>Female</td>\n",
              "      <td>Female</td>\n",
              "      <td>Female</td>\n",
              "      <td>Male</td>\n",
              "      <td>Male</td>\n",
              "      <td>Male</td>\n",
              "      <td>Male</td>\n",
              "      <td>Male</td>\n",
              "      <td>Female</td>\n",
              "      <td>Female</td>\n",
              "    </tr>\n",
              "    <tr>\n",
              "      <th>age</th>\n",
              "      <td>[0-10)</td>\n",
              "      <td>[10-20)</td>\n",
              "      <td>[20-30)</td>\n",
              "      <td>[30-40)</td>\n",
              "      <td>[40-50)</td>\n",
              "      <td>[50-60)</td>\n",
              "      <td>[60-70)</td>\n",
              "      <td>[70-80)</td>\n",
              "      <td>[80-90)</td>\n",
              "      <td>[90-100)</td>\n",
              "    </tr>\n",
              "    <tr>\n",
              "      <th>weight</th>\n",
              "      <td>?</td>\n",
              "      <td>?</td>\n",
              "      <td>?</td>\n",
              "      <td>?</td>\n",
              "      <td>?</td>\n",
              "      <td>?</td>\n",
              "      <td>?</td>\n",
              "      <td>?</td>\n",
              "      <td>?</td>\n",
              "      <td>?</td>\n",
              "    </tr>\n",
              "    <tr>\n",
              "      <th>admission_type_id</th>\n",
              "      <td>6</td>\n",
              "      <td>1</td>\n",
              "      <td>1</td>\n",
              "      <td>1</td>\n",
              "      <td>1</td>\n",
              "      <td>2</td>\n",
              "      <td>3</td>\n",
              "      <td>1</td>\n",
              "      <td>2</td>\n",
              "      <td>3</td>\n",
              "    </tr>\n",
              "    <tr>\n",
              "      <th>discharge_disposition_id</th>\n",
              "      <td>25</td>\n",
              "      <td>1</td>\n",
              "      <td>1</td>\n",
              "      <td>1</td>\n",
              "      <td>1</td>\n",
              "      <td>1</td>\n",
              "      <td>1</td>\n",
              "      <td>1</td>\n",
              "      <td>1</td>\n",
              "      <td>3</td>\n",
              "    </tr>\n",
              "    <tr>\n",
              "      <th>admission_source_id</th>\n",
              "      <td>1</td>\n",
              "      <td>7</td>\n",
              "      <td>7</td>\n",
              "      <td>7</td>\n",
              "      <td>7</td>\n",
              "      <td>2</td>\n",
              "      <td>2</td>\n",
              "      <td>7</td>\n",
              "      <td>4</td>\n",
              "      <td>4</td>\n",
              "    </tr>\n",
              "    <tr>\n",
              "      <th>time_in_hospital</th>\n",
              "      <td>1</td>\n",
              "      <td>3</td>\n",
              "      <td>2</td>\n",
              "      <td>2</td>\n",
              "      <td>1</td>\n",
              "      <td>3</td>\n",
              "      <td>4</td>\n",
              "      <td>5</td>\n",
              "      <td>13</td>\n",
              "      <td>12</td>\n",
              "    </tr>\n",
              "    <tr>\n",
              "      <th>payer_code</th>\n",
              "      <td>?</td>\n",
              "      <td>?</td>\n",
              "      <td>?</td>\n",
              "      <td>?</td>\n",
              "      <td>?</td>\n",
              "      <td>?</td>\n",
              "      <td>?</td>\n",
              "      <td>?</td>\n",
              "      <td>?</td>\n",
              "      <td>?</td>\n",
              "    </tr>\n",
              "    <tr>\n",
              "      <th>medical_specialty</th>\n",
              "      <td>Pediatrics-Endocrinology</td>\n",
              "      <td>?</td>\n",
              "      <td>?</td>\n",
              "      <td>?</td>\n",
              "      <td>?</td>\n",
              "      <td>?</td>\n",
              "      <td>?</td>\n",
              "      <td>?</td>\n",
              "      <td>?</td>\n",
              "      <td>InternalMedicine</td>\n",
              "    </tr>\n",
              "    <tr>\n",
              "      <th>num_lab_procedures</th>\n",
              "      <td>41</td>\n",
              "      <td>59</td>\n",
              "      <td>11</td>\n",
              "      <td>44</td>\n",
              "      <td>51</td>\n",
              "      <td>31</td>\n",
              "      <td>70</td>\n",
              "      <td>73</td>\n",
              "      <td>68</td>\n",
              "      <td>33</td>\n",
              "    </tr>\n",
              "    <tr>\n",
              "      <th>num_procedures</th>\n",
              "      <td>0</td>\n",
              "      <td>0</td>\n",
              "      <td>5</td>\n",
              "      <td>1</td>\n",
              "      <td>0</td>\n",
              "      <td>6</td>\n",
              "      <td>1</td>\n",
              "      <td>0</td>\n",
              "      <td>2</td>\n",
              "      <td>3</td>\n",
              "    </tr>\n",
              "    <tr>\n",
              "      <th>num_medications</th>\n",
              "      <td>1</td>\n",
              "      <td>18</td>\n",
              "      <td>13</td>\n",
              "      <td>16</td>\n",
              "      <td>8</td>\n",
              "      <td>16</td>\n",
              "      <td>21</td>\n",
              "      <td>12</td>\n",
              "      <td>28</td>\n",
              "      <td>18</td>\n",
              "    </tr>\n",
              "    <tr>\n",
              "      <th>number_outpatient</th>\n",
              "      <td>0</td>\n",
              "      <td>0</td>\n",
              "      <td>2</td>\n",
              "      <td>0</td>\n",
              "      <td>0</td>\n",
              "      <td>0</td>\n",
              "      <td>0</td>\n",
              "      <td>0</td>\n",
              "      <td>0</td>\n",
              "      <td>0</td>\n",
              "    </tr>\n",
              "    <tr>\n",
              "      <th>number_emergency</th>\n",
              "      <td>0</td>\n",
              "      <td>0</td>\n",
              "      <td>0</td>\n",
              "      <td>0</td>\n",
              "      <td>0</td>\n",
              "      <td>0</td>\n",
              "      <td>0</td>\n",
              "      <td>0</td>\n",
              "      <td>0</td>\n",
              "      <td>0</td>\n",
              "    </tr>\n",
              "    <tr>\n",
              "      <th>number_inpatient</th>\n",
              "      <td>0</td>\n",
              "      <td>0</td>\n",
              "      <td>1</td>\n",
              "      <td>0</td>\n",
              "      <td>0</td>\n",
              "      <td>0</td>\n",
              "      <td>0</td>\n",
              "      <td>0</td>\n",
              "      <td>0</td>\n",
              "      <td>0</td>\n",
              "    </tr>\n",
              "    <tr>\n",
              "      <th>diag_1</th>\n",
              "      <td>250.83</td>\n",
              "      <td>276</td>\n",
              "      <td>648</td>\n",
              "      <td>8</td>\n",
              "      <td>197</td>\n",
              "      <td>414</td>\n",
              "      <td>414</td>\n",
              "      <td>428</td>\n",
              "      <td>398</td>\n",
              "      <td>434</td>\n",
              "    </tr>\n",
              "    <tr>\n",
              "      <th>diag_2</th>\n",
              "      <td>?</td>\n",
              "      <td>250.01</td>\n",
              "      <td>250</td>\n",
              "      <td>250.43</td>\n",
              "      <td>157</td>\n",
              "      <td>411</td>\n",
              "      <td>411</td>\n",
              "      <td>492</td>\n",
              "      <td>427</td>\n",
              "      <td>198</td>\n",
              "    </tr>\n",
              "    <tr>\n",
              "      <th>diag_3</th>\n",
              "      <td>?</td>\n",
              "      <td>255</td>\n",
              "      <td>V27</td>\n",
              "      <td>403</td>\n",
              "      <td>250</td>\n",
              "      <td>250</td>\n",
              "      <td>V45</td>\n",
              "      <td>250</td>\n",
              "      <td>38</td>\n",
              "      <td>486</td>\n",
              "    </tr>\n",
              "    <tr>\n",
              "      <th>number_diagnoses</th>\n",
              "      <td>1</td>\n",
              "      <td>9</td>\n",
              "      <td>6</td>\n",
              "      <td>7</td>\n",
              "      <td>5</td>\n",
              "      <td>9</td>\n",
              "      <td>7</td>\n",
              "      <td>8</td>\n",
              "      <td>8</td>\n",
              "      <td>8</td>\n",
              "    </tr>\n",
              "    <tr>\n",
              "      <th>max_glu_serum</th>\n",
              "      <td>None</td>\n",
              "      <td>None</td>\n",
              "      <td>None</td>\n",
              "      <td>None</td>\n",
              "      <td>None</td>\n",
              "      <td>None</td>\n",
              "      <td>None</td>\n",
              "      <td>None</td>\n",
              "      <td>None</td>\n",
              "      <td>None</td>\n",
              "    </tr>\n",
              "    <tr>\n",
              "      <th>A1Cresult</th>\n",
              "      <td>None</td>\n",
              "      <td>None</td>\n",
              "      <td>None</td>\n",
              "      <td>None</td>\n",
              "      <td>None</td>\n",
              "      <td>None</td>\n",
              "      <td>None</td>\n",
              "      <td>None</td>\n",
              "      <td>None</td>\n",
              "      <td>None</td>\n",
              "    </tr>\n",
              "    <tr>\n",
              "      <th>metformin</th>\n",
              "      <td>No</td>\n",
              "      <td>No</td>\n",
              "      <td>No</td>\n",
              "      <td>No</td>\n",
              "      <td>No</td>\n",
              "      <td>No</td>\n",
              "      <td>Steady</td>\n",
              "      <td>No</td>\n",
              "      <td>No</td>\n",
              "      <td>No</td>\n",
              "    </tr>\n",
              "    <tr>\n",
              "      <th>repaglinide</th>\n",
              "      <td>No</td>\n",
              "      <td>No</td>\n",
              "      <td>No</td>\n",
              "      <td>No</td>\n",
              "      <td>No</td>\n",
              "      <td>No</td>\n",
              "      <td>No</td>\n",
              "      <td>No</td>\n",
              "      <td>No</td>\n",
              "      <td>No</td>\n",
              "    </tr>\n",
              "    <tr>\n",
              "      <th>nateglinide</th>\n",
              "      <td>No</td>\n",
              "      <td>No</td>\n",
              "      <td>No</td>\n",
              "      <td>No</td>\n",
              "      <td>No</td>\n",
              "      <td>No</td>\n",
              "      <td>No</td>\n",
              "      <td>No</td>\n",
              "      <td>No</td>\n",
              "      <td>No</td>\n",
              "    </tr>\n",
              "    <tr>\n",
              "      <th>chlorpropamide</th>\n",
              "      <td>No</td>\n",
              "      <td>No</td>\n",
              "      <td>No</td>\n",
              "      <td>No</td>\n",
              "      <td>No</td>\n",
              "      <td>No</td>\n",
              "      <td>No</td>\n",
              "      <td>No</td>\n",
              "      <td>No</td>\n",
              "      <td>No</td>\n",
              "    </tr>\n",
              "    <tr>\n",
              "      <th>glimepiride</th>\n",
              "      <td>No</td>\n",
              "      <td>No</td>\n",
              "      <td>No</td>\n",
              "      <td>No</td>\n",
              "      <td>No</td>\n",
              "      <td>No</td>\n",
              "      <td>Steady</td>\n",
              "      <td>No</td>\n",
              "      <td>No</td>\n",
              "      <td>No</td>\n",
              "    </tr>\n",
              "    <tr>\n",
              "      <th>acetohexamide</th>\n",
              "      <td>No</td>\n",
              "      <td>No</td>\n",
              "      <td>No</td>\n",
              "      <td>No</td>\n",
              "      <td>No</td>\n",
              "      <td>No</td>\n",
              "      <td>No</td>\n",
              "      <td>No</td>\n",
              "      <td>No</td>\n",
              "      <td>No</td>\n",
              "    </tr>\n",
              "    <tr>\n",
              "      <th>glipizide</th>\n",
              "      <td>No</td>\n",
              "      <td>No</td>\n",
              "      <td>Steady</td>\n",
              "      <td>No</td>\n",
              "      <td>Steady</td>\n",
              "      <td>No</td>\n",
              "      <td>No</td>\n",
              "      <td>No</td>\n",
              "      <td>Steady</td>\n",
              "      <td>No</td>\n",
              "    </tr>\n",
              "    <tr>\n",
              "      <th>glyburide</th>\n",
              "      <td>No</td>\n",
              "      <td>No</td>\n",
              "      <td>No</td>\n",
              "      <td>No</td>\n",
              "      <td>No</td>\n",
              "      <td>No</td>\n",
              "      <td>No</td>\n",
              "      <td>Steady</td>\n",
              "      <td>No</td>\n",
              "      <td>No</td>\n",
              "    </tr>\n",
              "    <tr>\n",
              "      <th>tolbutamide</th>\n",
              "      <td>No</td>\n",
              "      <td>No</td>\n",
              "      <td>No</td>\n",
              "      <td>No</td>\n",
              "      <td>No</td>\n",
              "      <td>No</td>\n",
              "      <td>No</td>\n",
              "      <td>No</td>\n",
              "      <td>No</td>\n",
              "      <td>No</td>\n",
              "    </tr>\n",
              "    <tr>\n",
              "      <th>pioglitazone</th>\n",
              "      <td>No</td>\n",
              "      <td>No</td>\n",
              "      <td>No</td>\n",
              "      <td>No</td>\n",
              "      <td>No</td>\n",
              "      <td>No</td>\n",
              "      <td>No</td>\n",
              "      <td>No</td>\n",
              "      <td>No</td>\n",
              "      <td>No</td>\n",
              "    </tr>\n",
              "    <tr>\n",
              "      <th>rosiglitazone</th>\n",
              "      <td>No</td>\n",
              "      <td>No</td>\n",
              "      <td>No</td>\n",
              "      <td>No</td>\n",
              "      <td>No</td>\n",
              "      <td>No</td>\n",
              "      <td>No</td>\n",
              "      <td>No</td>\n",
              "      <td>No</td>\n",
              "      <td>Steady</td>\n",
              "    </tr>\n",
              "    <tr>\n",
              "      <th>acarbose</th>\n",
              "      <td>No</td>\n",
              "      <td>No</td>\n",
              "      <td>No</td>\n",
              "      <td>No</td>\n",
              "      <td>No</td>\n",
              "      <td>No</td>\n",
              "      <td>No</td>\n",
              "      <td>No</td>\n",
              "      <td>No</td>\n",
              "      <td>No</td>\n",
              "    </tr>\n",
              "    <tr>\n",
              "      <th>miglitol</th>\n",
              "      <td>No</td>\n",
              "      <td>No</td>\n",
              "      <td>No</td>\n",
              "      <td>No</td>\n",
              "      <td>No</td>\n",
              "      <td>No</td>\n",
              "      <td>No</td>\n",
              "      <td>No</td>\n",
              "      <td>No</td>\n",
              "      <td>No</td>\n",
              "    </tr>\n",
              "    <tr>\n",
              "      <th>troglitazone</th>\n",
              "      <td>No</td>\n",
              "      <td>No</td>\n",
              "      <td>No</td>\n",
              "      <td>No</td>\n",
              "      <td>No</td>\n",
              "      <td>No</td>\n",
              "      <td>No</td>\n",
              "      <td>No</td>\n",
              "      <td>No</td>\n",
              "      <td>No</td>\n",
              "    </tr>\n",
              "    <tr>\n",
              "      <th>tolazamide</th>\n",
              "      <td>No</td>\n",
              "      <td>No</td>\n",
              "      <td>No</td>\n",
              "      <td>No</td>\n",
              "      <td>No</td>\n",
              "      <td>No</td>\n",
              "      <td>No</td>\n",
              "      <td>No</td>\n",
              "      <td>No</td>\n",
              "      <td>No</td>\n",
              "    </tr>\n",
              "    <tr>\n",
              "      <th>examide</th>\n",
              "      <td>No</td>\n",
              "      <td>No</td>\n",
              "      <td>No</td>\n",
              "      <td>No</td>\n",
              "      <td>No</td>\n",
              "      <td>No</td>\n",
              "      <td>No</td>\n",
              "      <td>No</td>\n",
              "      <td>No</td>\n",
              "      <td>No</td>\n",
              "    </tr>\n",
              "    <tr>\n",
              "      <th>citoglipton</th>\n",
              "      <td>No</td>\n",
              "      <td>No</td>\n",
              "      <td>No</td>\n",
              "      <td>No</td>\n",
              "      <td>No</td>\n",
              "      <td>No</td>\n",
              "      <td>No</td>\n",
              "      <td>No</td>\n",
              "      <td>No</td>\n",
              "      <td>No</td>\n",
              "    </tr>\n",
              "    <tr>\n",
              "      <th>insulin</th>\n",
              "      <td>No</td>\n",
              "      <td>Up</td>\n",
              "      <td>No</td>\n",
              "      <td>Up</td>\n",
              "      <td>Steady</td>\n",
              "      <td>Steady</td>\n",
              "      <td>Steady</td>\n",
              "      <td>No</td>\n",
              "      <td>Steady</td>\n",
              "      <td>Steady</td>\n",
              "    </tr>\n",
              "    <tr>\n",
              "      <th>glyburide-metformin</th>\n",
              "      <td>No</td>\n",
              "      <td>No</td>\n",
              "      <td>No</td>\n",
              "      <td>No</td>\n",
              "      <td>No</td>\n",
              "      <td>No</td>\n",
              "      <td>No</td>\n",
              "      <td>No</td>\n",
              "      <td>No</td>\n",
              "      <td>No</td>\n",
              "    </tr>\n",
              "    <tr>\n",
              "      <th>glipizide-metformin</th>\n",
              "      <td>No</td>\n",
              "      <td>No</td>\n",
              "      <td>No</td>\n",
              "      <td>No</td>\n",
              "      <td>No</td>\n",
              "      <td>No</td>\n",
              "      <td>No</td>\n",
              "      <td>No</td>\n",
              "      <td>No</td>\n",
              "      <td>No</td>\n",
              "    </tr>\n",
              "    <tr>\n",
              "      <th>glimepiride-pioglitazone</th>\n",
              "      <td>No</td>\n",
              "      <td>No</td>\n",
              "      <td>No</td>\n",
              "      <td>No</td>\n",
              "      <td>No</td>\n",
              "      <td>No</td>\n",
              "      <td>No</td>\n",
              "      <td>No</td>\n",
              "      <td>No</td>\n",
              "      <td>No</td>\n",
              "    </tr>\n",
              "    <tr>\n",
              "      <th>metformin-rosiglitazone</th>\n",
              "      <td>No</td>\n",
              "      <td>No</td>\n",
              "      <td>No</td>\n",
              "      <td>No</td>\n",
              "      <td>No</td>\n",
              "      <td>No</td>\n",
              "      <td>No</td>\n",
              "      <td>No</td>\n",
              "      <td>No</td>\n",
              "      <td>No</td>\n",
              "    </tr>\n",
              "    <tr>\n",
              "      <th>metformin-pioglitazone</th>\n",
              "      <td>No</td>\n",
              "      <td>No</td>\n",
              "      <td>No</td>\n",
              "      <td>No</td>\n",
              "      <td>No</td>\n",
              "      <td>No</td>\n",
              "      <td>No</td>\n",
              "      <td>No</td>\n",
              "      <td>No</td>\n",
              "      <td>No</td>\n",
              "    </tr>\n",
              "    <tr>\n",
              "      <th>change</th>\n",
              "      <td>No</td>\n",
              "      <td>Ch</td>\n",
              "      <td>No</td>\n",
              "      <td>Ch</td>\n",
              "      <td>Ch</td>\n",
              "      <td>No</td>\n",
              "      <td>Ch</td>\n",
              "      <td>No</td>\n",
              "      <td>Ch</td>\n",
              "      <td>Ch</td>\n",
              "    </tr>\n",
              "    <tr>\n",
              "      <th>diabetesMed</th>\n",
              "      <td>No</td>\n",
              "      <td>Yes</td>\n",
              "      <td>Yes</td>\n",
              "      <td>Yes</td>\n",
              "      <td>Yes</td>\n",
              "      <td>Yes</td>\n",
              "      <td>Yes</td>\n",
              "      <td>Yes</td>\n",
              "      <td>Yes</td>\n",
              "      <td>Yes</td>\n",
              "    </tr>\n",
              "    <tr>\n",
              "      <th>readmitted</th>\n",
              "      <td>NO</td>\n",
              "      <td>&gt;30</td>\n",
              "      <td>NO</td>\n",
              "      <td>NO</td>\n",
              "      <td>NO</td>\n",
              "      <td>&gt;30</td>\n",
              "      <td>NO</td>\n",
              "      <td>&gt;30</td>\n",
              "      <td>NO</td>\n",
              "      <td>NO</td>\n",
              "    </tr>\n",
              "  </tbody>\n",
              "</table>\n",
              "</div>\n",
              "      <button class=\"colab-df-convert\" onclick=\"convertToInteractive('df-61784236-3f73-44fd-81fc-69d1b5dc409a')\"\n",
              "              title=\"Convert this dataframe to an interactive table.\"\n",
              "              style=\"display:none;\">\n",
              "\n",
              "  <svg xmlns=\"http://www.w3.org/2000/svg\" height=\"24px\"viewBox=\"0 0 24 24\"\n",
              "       width=\"24px\">\n",
              "    <path d=\"M0 0h24v24H0V0z\" fill=\"none\"/>\n",
              "    <path d=\"M18.56 5.44l.94 2.06.94-2.06 2.06-.94-2.06-.94-.94-2.06-.94 2.06-2.06.94zm-11 1L8.5 8.5l.94-2.06 2.06-.94-2.06-.94L8.5 2.5l-.94 2.06-2.06.94zm10 10l.94 2.06.94-2.06 2.06-.94-2.06-.94-.94-2.06-.94 2.06-2.06.94z\"/><path d=\"M17.41 7.96l-1.37-1.37c-.4-.4-.92-.59-1.43-.59-.52 0-1.04.2-1.43.59L10.3 9.45l-7.72 7.72c-.78.78-.78 2.05 0 2.83L4 21.41c.39.39.9.59 1.41.59.51 0 1.02-.2 1.41-.59l7.78-7.78 2.81-2.81c.8-.78.8-2.07 0-2.86zM5.41 20L4 18.59l7.72-7.72 1.47 1.35L5.41 20z\"/>\n",
              "  </svg>\n",
              "      </button>\n",
              "\n",
              "\n",
              "\n",
              "    <div id=\"df-7a9c7258-a67d-4836-b053-2076c76ea41c\">\n",
              "      <button class=\"colab-df-quickchart\" onclick=\"quickchart('df-7a9c7258-a67d-4836-b053-2076c76ea41c')\"\n",
              "              title=\"Suggest charts.\"\n",
              "              style=\"display:none;\">\n",
              "\n",
              "<svg xmlns=\"http://www.w3.org/2000/svg\" height=\"24px\"viewBox=\"0 0 24 24\"\n",
              "     width=\"24px\">\n",
              "    <g>\n",
              "        <path d=\"M19 3H5c-1.1 0-2 .9-2 2v14c0 1.1.9 2 2 2h14c1.1 0 2-.9 2-2V5c0-1.1-.9-2-2-2zM9 17H7v-7h2v7zm4 0h-2V7h2v10zm4 0h-2v-4h2v4z\"/>\n",
              "    </g>\n",
              "</svg>\n",
              "      </button>\n",
              "    </div>\n",
              "\n",
              "<style>\n",
              "  .colab-df-quickchart {\n",
              "    background-color: #E8F0FE;\n",
              "    border: none;\n",
              "    border-radius: 50%;\n",
              "    cursor: pointer;\n",
              "    display: none;\n",
              "    fill: #1967D2;\n",
              "    height: 32px;\n",
              "    padding: 0 0 0 0;\n",
              "    width: 32px;\n",
              "  }\n",
              "\n",
              "  .colab-df-quickchart:hover {\n",
              "    background-color: #E2EBFA;\n",
              "    box-shadow: 0px 1px 2px rgba(60, 64, 67, 0.3), 0px 1px 3px 1px rgba(60, 64, 67, 0.15);\n",
              "    fill: #174EA6;\n",
              "  }\n",
              "\n",
              "  [theme=dark] .colab-df-quickchart {\n",
              "    background-color: #3B4455;\n",
              "    fill: #D2E3FC;\n",
              "  }\n",
              "\n",
              "  [theme=dark] .colab-df-quickchart:hover {\n",
              "    background-color: #434B5C;\n",
              "    box-shadow: 0px 1px 3px 1px rgba(0, 0, 0, 0.15);\n",
              "    filter: drop-shadow(0px 1px 2px rgba(0, 0, 0, 0.3));\n",
              "    fill: #FFFFFF;\n",
              "  }\n",
              "</style>\n",
              "\n",
              "    <script>\n",
              "      async function quickchart(key) {\n",
              "        const containerElement = document.querySelector('#' + key);\n",
              "        const charts = await google.colab.kernel.invokeFunction(\n",
              "            'suggestCharts', [key], {});\n",
              "      }\n",
              "    </script>\n",
              "\n",
              "      <script>\n",
              "\n",
              "function displayQuickchartButton(domScope) {\n",
              "  let quickchartButtonEl =\n",
              "    domScope.querySelector('#df-7a9c7258-a67d-4836-b053-2076c76ea41c button.colab-df-quickchart');\n",
              "  quickchartButtonEl.style.display =\n",
              "    google.colab.kernel.accessAllowed ? 'block' : 'none';\n",
              "}\n",
              "\n",
              "        displayQuickchartButton(document);\n",
              "      </script>\n",
              "      <style>\n",
              "    .colab-df-container {\n",
              "      display:flex;\n",
              "      flex-wrap:wrap;\n",
              "      gap: 12px;\n",
              "    }\n",
              "\n",
              "    .colab-df-convert {\n",
              "      background-color: #E8F0FE;\n",
              "      border: none;\n",
              "      border-radius: 50%;\n",
              "      cursor: pointer;\n",
              "      display: none;\n",
              "      fill: #1967D2;\n",
              "      height: 32px;\n",
              "      padding: 0 0 0 0;\n",
              "      width: 32px;\n",
              "    }\n",
              "\n",
              "    .colab-df-convert:hover {\n",
              "      background-color: #E2EBFA;\n",
              "      box-shadow: 0px 1px 2px rgba(60, 64, 67, 0.3), 0px 1px 3px 1px rgba(60, 64, 67, 0.15);\n",
              "      fill: #174EA6;\n",
              "    }\n",
              "\n",
              "    [theme=dark] .colab-df-convert {\n",
              "      background-color: #3B4455;\n",
              "      fill: #D2E3FC;\n",
              "    }\n",
              "\n",
              "    [theme=dark] .colab-df-convert:hover {\n",
              "      background-color: #434B5C;\n",
              "      box-shadow: 0px 1px 3px 1px rgba(0, 0, 0, 0.15);\n",
              "      filter: drop-shadow(0px 1px 2px rgba(0, 0, 0, 0.3));\n",
              "      fill: #FFFFFF;\n",
              "    }\n",
              "  </style>\n",
              "\n",
              "      <script>\n",
              "        const buttonEl =\n",
              "          document.querySelector('#df-61784236-3f73-44fd-81fc-69d1b5dc409a button.colab-df-convert');\n",
              "        buttonEl.style.display =\n",
              "          google.colab.kernel.accessAllowed ? 'block' : 'none';\n",
              "\n",
              "        async function convertToInteractive(key) {\n",
              "          const element = document.querySelector('#df-61784236-3f73-44fd-81fc-69d1b5dc409a');\n",
              "          const dataTable =\n",
              "            await google.colab.kernel.invokeFunction('convertToInteractive',\n",
              "                                                     [key], {});\n",
              "          if (!dataTable) return;\n",
              "\n",
              "          const docLinkHtml = 'Like what you see? Visit the ' +\n",
              "            '<a target=\"_blank\" href=https://colab.research.google.com/notebooks/data_table.ipynb>data table notebook</a>'\n",
              "            + ' to learn more about interactive tables.';\n",
              "          element.innerHTML = '';\n",
              "          dataTable['output_type'] = 'display_data';\n",
              "          await google.colab.output.renderOutput(dataTable, element);\n",
              "          const docLink = document.createElement('div');\n",
              "          docLink.innerHTML = docLinkHtml;\n",
              "          element.appendChild(docLink);\n",
              "        }\n",
              "      </script>\n",
              "    </div>\n",
              "  </div>\n"
            ]
          },
          "metadata": {},
          "execution_count": 36
        }
      ]
    },
    {
      "cell_type": "code",
      "source": [
        "#checking shape of the dataset\n",
        "df.shape"
      ],
      "metadata": {
        "colab": {
          "base_uri": "https://localhost:8080/"
        },
        "id": "GHGJx5tPAKsj",
        "outputId": "bab9db4c-a639-4ac2-dd3d-a2ee6fe60951"
      },
      "execution_count": 31,
      "outputs": [
        {
          "output_type": "execute_result",
          "data": {
            "text/plain": [
              "(5535, 50)"
            ]
          },
          "metadata": {},
          "execution_count": 31
        }
      ]
    },
    {
      "cell_type": "code",
      "source": [
        "#Checking data types of each variable\n",
        "df.dtypes"
      ],
      "metadata": {
        "colab": {
          "base_uri": "https://localhost:8080/"
        },
        "id": "KDmh_JmYArwN",
        "outputId": "e242728f-fa63-4f53-a873-4a0780db590d"
      },
      "execution_count": 32,
      "outputs": [
        {
          "output_type": "execute_result",
          "data": {
            "text/plain": [
              "encounter_id                  int64\n",
              "patient_nbr                   int64\n",
              "race                         object\n",
              "gender                       object\n",
              "age                          object\n",
              "weight                       object\n",
              "admission_type_id             int64\n",
              "discharge_disposition_id      int64\n",
              "admission_source_id           int64\n",
              "time_in_hospital              int64\n",
              "payer_code                   object\n",
              "medical_specialty            object\n",
              "num_lab_procedures            int64\n",
              "num_procedures                int64\n",
              "num_medications             float64\n",
              "number_outpatient           float64\n",
              "number_emergency            float64\n",
              "number_inpatient            float64\n",
              "diag_1                       object\n",
              "diag_2                       object\n",
              "diag_3                       object\n",
              "number_diagnoses            float64\n",
              "max_glu_serum                object\n",
              "A1Cresult                    object\n",
              "metformin                    object\n",
              "repaglinide                  object\n",
              "nateglinide                  object\n",
              "chlorpropamide               object\n",
              "glimepiride                  object\n",
              "acetohexamide                object\n",
              "glipizide                    object\n",
              "glyburide                    object\n",
              "tolbutamide                  object\n",
              "pioglitazone                 object\n",
              "rosiglitazone                object\n",
              "acarbose                     object\n",
              "miglitol                     object\n",
              "troglitazone                 object\n",
              "tolazamide                   object\n",
              "examide                      object\n",
              "citoglipton                  object\n",
              "insulin                      object\n",
              "glyburide-metformin          object\n",
              "glipizide-metformin          object\n",
              "glimepiride-pioglitazone     object\n",
              "metformin-rosiglitazone      object\n",
              "metformin-pioglitazone       object\n",
              "change                       object\n",
              "diabetesMed                  object\n",
              "readmitted                   object\n",
              "dtype: object"
            ]
          },
          "metadata": {},
          "execution_count": 32
        }
      ]
    },
    {
      "cell_type": "code",
      "source": [
        "#Checking for missing values in dataset\n",
        "#In the dataset missing values are represented as '?' sign\n",
        "for col in df.columns:\n",
        "    if df[col].dtype == object:\n",
        "         print(col,df[col][df[col] == '?'].count())"
      ],
      "metadata": {
        "colab": {
          "base_uri": "https://localhost:8080/"
        },
        "id": "FzEAVNX8A3Bz",
        "outputId": "6d193674-b77f-47aa-b47f-58b33b4c9ce7"
      },
      "execution_count": 33,
      "outputs": [
        {
          "output_type": "stream",
          "name": "stdout",
          "text": [
            "race 111\n",
            "gender 0\n",
            "age 0\n",
            "weight 5390\n",
            "payer_code 5535\n",
            "medical_specialty 1759\n",
            "diag_1 5\n",
            "diag_2 37\n",
            "diag_3 182\n",
            "max_glu_serum 0\n",
            "A1Cresult 0\n",
            "metformin 0\n",
            "repaglinide 0\n",
            "nateglinide 0\n",
            "chlorpropamide 0\n",
            "glimepiride 0\n",
            "acetohexamide 0\n",
            "glipizide 0\n",
            "glyburide 0\n",
            "tolbutamide 0\n",
            "pioglitazone 0\n",
            "rosiglitazone 0\n",
            "acarbose 0\n",
            "miglitol 0\n",
            "troglitazone 0\n",
            "tolazamide 0\n",
            "examide 0\n",
            "citoglipton 0\n",
            "insulin 0\n",
            "glyburide-metformin 0\n",
            "glipizide-metformin 0\n",
            "glimepiride-pioglitazone 0\n",
            "metformin-rosiglitazone 0\n",
            "metformin-pioglitazone 0\n",
            "change 0\n",
            "diabetesMed 0\n",
            "readmitted 0\n"
          ]
        }
      ]
    },
    {
      "cell_type": "code",
      "source": [
        "# gender was coded differently so we use a custom count for this one\n",
        "print('gender', df['gender'][df['gender'] == 'Unknown/Invalid'].count())"
      ],
      "metadata": {
        "colab": {
          "base_uri": "https://localhost:8080/"
        },
        "id": "Uv4SL5J3BLHf",
        "outputId": "cbc02c3b-d391-4db2-d921-e8b3253f7363"
      },
      "execution_count": 34,
      "outputs": [
        {
          "output_type": "stream",
          "name": "stdout",
          "text": [
            "gender 0\n"
          ]
        }
      ]
    },
    {
      "cell_type": "markdown",
      "source": [
        "###Dealing with Missing Values\n",
        "Variable \"weight\" contains approximate 98% of the missing values so there is no significance in filling those missing values so we decided to drop these variables. Variable \"Payer code\" and \"medical specialty\" contains approximate 40% missing values so we also dropped these variables.\n",
        "\n",
        "Variables \"race\", \"diag_1\", \"diag_2\", \"diag_3\" and \"gender\" contains very less missing values as compared to other attributes which we dropped so for these attributes we also decided to drop those where missing values contains"
      ],
      "metadata": {
        "id": "DrrOEdvbxLLj"
      }
    },
    {
      "cell_type": "code",
      "source": [
        "#dropping columns with large number of missing values\n",
        "df = df.drop(['weight','payer_code','medical_specialty'], axis = 1)"
      ],
      "metadata": {
        "id": "YhL9DOI_II_m"
      },
      "execution_count": null,
      "outputs": []
    },
    {
      "cell_type": "code",
      "source": [
        "drop_Idx = set(df[(df['diag_1'] == '?') & (df['diag_2'] == '?') & (df['diag_3'] == '?')].index)\n",
        "\n",
        "drop_Idx = drop_Idx.union(set(df['diag_1'][df['diag_1'] == '?'].index))\n",
        "drop_Idx = drop_Idx.union(set(df['diag_2'][df['diag_2'] == '?'].index))\n",
        "drop_Idx = drop_Idx.union(set(df['diag_3'][df['diag_3'] == '?'].index))\n",
        "drop_Idx = drop_Idx.union(set(df['race'][df['race'] == '?'].index))\n",
        "drop_Idx = drop_Idx.union(set(df[df['discharge_disposition_id'] == 11].index))\n",
        "drop_Idx = drop_Idx.union(set(df['gender'][df['gender'] == 'Unknown/Invalid'].index))\n",
        "new_Idx = list(set(df.index) - set(drop_Idx))\n",
        "df = df.iloc[new_Idx]"
      ],
      "metadata": {
        "id": "-6w-sv4RIeNR"
      },
      "execution_count": null,
      "outputs": []
    },
    {
      "cell_type": "code",
      "source": [
        "# For some variables (drugs named citoglipton and examide), all records have the same value\n",
        "# So essentially these cannot provide any interpretive or discriminatory information for predicting readmission so we decided to drop these two variables\n",
        "df = df.drop(['citoglipton', 'examide'], axis = 1)"
      ],
      "metadata": {
        "id": "Cnu9w_aEIxVn"
      },
      "execution_count": null,
      "outputs": []
    },
    {
      "cell_type": "code",
      "source": [
        "#Checking for missing values in the data\n",
        "for col in df.columns:\n",
        "    if df[col].dtype == object:\n",
        "         print(col,df[col][df[col] == '?'].count())\n",
        "\n",
        "print('gender', df['gender'][df['gender'] == 'Unknown/Invalid'].count())"
      ],
      "metadata": {
        "colab": {
          "base_uri": "https://localhost:8080/"
        },
        "id": "OVC7PzgmJDvy",
        "outputId": "ff48dcfb-037d-46f8-b254-2b955a535192"
      },
      "execution_count": null,
      "outputs": [
        {
          "output_type": "stream",
          "name": "stdout",
          "text": [
            "race 0\n",
            "gender 0\n",
            "age 0\n",
            "diag_1 0\n",
            "diag_2 0\n",
            "diag_3 0\n",
            "max_glu_serum 0\n",
            "A1Cresult 0\n",
            "metformin 0\n",
            "repaglinide 0\n",
            "nateglinide 0\n",
            "chlorpropamide 0\n",
            "glimepiride 0\n",
            "acetohexamide 0\n",
            "glipizide 0\n",
            "glyburide 0\n",
            "tolbutamide 0\n",
            "pioglitazone 0\n",
            "rosiglitazone 0\n",
            "acarbose 0\n",
            "miglitol 0\n",
            "troglitazone 0\n",
            "tolazamide 0\n",
            "insulin 0\n",
            "glyburide-metformin 0\n",
            "glipizide-metformin 0\n",
            "glimepiride-pioglitazone 0\n",
            "metformin-rosiglitazone 0\n",
            "metformin-pioglitazone 0\n",
            "change 0\n",
            "diabetesMed 0\n",
            "readmitted 0\n",
            "gender 0\n"
          ]
        }
      ]
    },
    {
      "cell_type": "markdown",
      "source": [
        "### Feature engineering\n"
      ],
      "metadata": {
        "id": "cKH8VKfsx7SA"
      }
    },
    {
      "cell_type": "markdown",
      "source": [
        "This part is related with the prior knowledge of health care service, so it can be subjective. I refered to the kaggle project mentioned above and followed the steps sequentially.\n"
      ],
      "metadata": {
        "id": "aJ5sT7VayO2I"
      }
    },
    {
      "cell_type": "markdown",
      "source": [
        "1. *Service utilization*: The data contains variables for number of inpatient (admissions), emergency room visits and outpatient visits for a given patient in the previous one year. These are (crude) measures of how much hospital/clinic services a person has used in the past year. We added these three to create a new variable called service utilization (see figure below). The idea was to see which version gives us better results. Granted, we did not apply any special weighting to the three ingredients of service utilization but we wanted to try something simple at this stage."
      ],
      "metadata": {
        "id": "oAIPCZYf0o0v"
      }
    },
    {
      "cell_type": "code",
      "source": [
        "df['service_utilization'] = df['number_outpatient'] + df['number_emergency'] + df['number_inpatient']"
      ],
      "metadata": {
        "id": "Ogn9zk9KyOhm"
      },
      "execution_count": null,
      "outputs": []
    },
    {
      "cell_type": "markdown",
      "source": [
        "2. *Number of medication changes*: The dataset contains 23 features for 23 drugs (or combos) which indicate for each of these, whether a change in that medication was made or not during the current hospital stay of patient. Medication change for diabetics upon admission has been shown by previous research to be associated with lower readmission rates. We decided to count how many changes were made in total for each patient, and declared that a new feature. The reasoning here was to both simplify the model and possibly discover a relationship with number of changes regardless of which drug was changed."
      ],
      "metadata": {
        "id": "7HfWTAQJ0spu"
      }
    },
    {
      "cell_type": "code",
      "source": [
        "keys = ['metformin', 'repaglinide', 'nateglinide', 'chlorpropamide', 'glimepiride', 'glipizide', 'glyburide', 'pioglitazone', 'rosiglitazone', 'acarbose', 'miglitol', 'insulin', 'glyburide-metformin', 'tolazamide', 'metformin-pioglitazone','metformin-rosiglitazone', 'glimepiride-pioglitazone', 'glipizide-metformin', 'troglitazone', 'tolbutamide', 'acetohexamide']\n",
        "for col in keys:\n",
        "    colname = str(col) + 'temp'\n",
        "    df[colname] = df[col].apply(lambda x: 0 if (x == 'No' or x == 'Steady') else 1)\n",
        "df['numchange'] = 0\n",
        "for col in keys:\n",
        "    colname = str(col) + 'temp'\n",
        "    df['numchange'] = df['numchange'] + df[colname]\n",
        "    del df[colname]\n",
        "\n",
        "df['numchange'].value_counts()"
      ],
      "metadata": {
        "colab": {
          "base_uri": "https://localhost:8080/"
        },
        "id": "uz3ech7QJE1p",
        "outputId": "df38fa0a-cc65-4b6e-ac89-b9f99185904a"
      },
      "execution_count": null,
      "outputs": [
        {
          "output_type": "execute_result",
          "data": {
            "text/plain": [
              "0     4028\n",
              "1     1045\n",
              "2       60\n",
              "3        9\n",
              "21       1\n",
              "Name: numchange, dtype: int64"
            ]
          },
          "metadata": {},
          "execution_count": 12
        }
      ]
    },
    {
      "cell_type": "code",
      "source": [
        "# re-encoding admission type, discharge type and admission source into fewer categories\n",
        "\n",
        "df['admission_type_id'] = df['admission_type_id'].replace(2,1)\n",
        "df['admission_type_id'] = df['admission_type_id'].replace(7,1)\n",
        "df['admission_type_id'] = df['admission_type_id'].replace(6,5)\n",
        "df['admission_type_id'] = df['admission_type_id'].replace(8,5)\n",
        "\n",
        "df['discharge_disposition_id'] = df['discharge_disposition_id'].replace(6,1)\n",
        "df['discharge_disposition_id'] = df['discharge_disposition_id'].replace(8,1)\n",
        "df['discharge_disposition_id'] = df['discharge_disposition_id'].replace(9,1)\n",
        "df['discharge_disposition_id'] = df['discharge_disposition_id'].replace(13,1)\n",
        "df['discharge_disposition_id'] = df['discharge_disposition_id'].replace(3,2)\n",
        "df['discharge_disposition_id'] = df['discharge_disposition_id'].replace(4,2)\n",
        "df['discharge_disposition_id'] = df['discharge_disposition_id'].replace(5,2)\n",
        "df['discharge_disposition_id'] = df['discharge_disposition_id'].replace(14,2)\n",
        "df['discharge_disposition_id'] = df['discharge_disposition_id'].replace(22,2)\n",
        "df['discharge_disposition_id'] = df['discharge_disposition_id'].replace(23,2)\n",
        "df['discharge_disposition_id'] = df['discharge_disposition_id'].replace(24,2)\n",
        "df['discharge_disposition_id'] = df['discharge_disposition_id'].replace(12,10)\n",
        "df['discharge_disposition_id'] = df['discharge_disposition_id'].replace(15,10)\n",
        "df['discharge_disposition_id'] = df['discharge_disposition_id'].replace(16,10)\n",
        "df['discharge_disposition_id'] = df['discharge_disposition_id'].replace(17,10)\n",
        "df['discharge_disposition_id'] = df['discharge_disposition_id'].replace(25,18)\n",
        "df['discharge_disposition_id'] = df['discharge_disposition_id'].replace(26,18)\n",
        "\n",
        "df['admission_source_id'] = df['admission_source_id'].replace(2,1)\n",
        "df['admission_source_id'] = df['admission_source_id'].replace(3,1)\n",
        "df['admission_source_id'] = df['admission_source_id'].replace(5,4)\n",
        "df['admission_source_id'] = df['admission_source_id'].replace(6,4)\n",
        "df['admission_source_id'] = df['admission_source_id'].replace(10,4)\n",
        "df['admission_source_id'] = df['admission_source_id'].replace(22,4)\n",
        "df['admission_source_id'] = df['admission_source_id'].replace(25,4)\n",
        "df['admission_source_id'] = df['admission_source_id'].replace(15,9)\n",
        "df['admission_source_id'] = df['admission_source_id'].replace(17,9)\n",
        "df['admission_source_id'] = df['admission_source_id'].replace(20,9)\n",
        "df['admission_source_id'] = df['admission_source_id'].replace(21,9)\n",
        "df['admission_source_id'] = df['admission_source_id'].replace(13,11)\n",
        "df['admission_source_id'] = df['admission_source_id'].replace(14,11)"
      ],
      "metadata": {
        "id": "qvt-LdZHJIT_"
      },
      "execution_count": null,
      "outputs": []
    },
    {
      "cell_type": "markdown",
      "source": [
        "3. *Encoding some variables*: The original dataset used string values for gender, race, medication change, and each of the 23 drugs used. To better fit those variables into our model, we interpret the variables to numeric binary variables to reflect their nature. For example, we encoded the “ medication change ” feature from “No” (no change) and “Ch” (changed) into 0 and 1.\n",
        "\n",
        "We also reduced both A1C test result and Glucose serum test result into categories of Normal, Abnormal and Not tested."
      ],
      "metadata": {
        "id": "j0jsHgos-HOB"
      }
    },
    {
      "cell_type": "code",
      "source": [
        "df['change'] = df['change'].replace('Ch', 1)\n",
        "df['change'] = df['change'].replace('No', 0)\n",
        "df['gender'] = df['gender'].replace('Male', 1)\n",
        "df['gender'] = df['gender'].replace('Female', 0)\n",
        "df['diabetesMed'] = df['diabetesMed'].replace('Yes', 1)\n",
        "df['diabetesMed'] = df['diabetesMed'].replace('No', 0)\n",
        "# keys is the same as before\n",
        "for col in keys:\n",
        "    df[col] = df[col].replace('No', 0)\n",
        "    df[col] = df[col].replace('Steady', 1)\n",
        "    df[col] = df[col].replace('Up', 1)\n",
        "    df[col] = df[col].replace('Down', 1)"
      ],
      "metadata": {
        "id": "Zq24bNcu9567"
      },
      "execution_count": null,
      "outputs": []
    },
    {
      "cell_type": "code",
      "source": [
        "df['A1Cresult'] = df['A1Cresult'].replace('>7', 1)\n",
        "df['A1Cresult'] = df['A1Cresult'].replace('>8', 1)\n",
        "df['A1Cresult'] = df['A1Cresult'].replace('Norm', 0)\n",
        "df['A1Cresult'] = df['A1Cresult'].replace('None', -99)\n",
        "df['max_glu_serum'] = df['max_glu_serum'].replace('>200', 1)\n",
        "df['max_glu_serum'] = df['max_glu_serum'].replace('>300', 1)\n",
        "df['max_glu_serum'] = df['max_glu_serum'].replace('Norm', 0)\n",
        "df['max_glu_serum'] = df['max_glu_serum'].replace('None', -99)"
      ],
      "metadata": {
        "id": "a7mVwwx8-Rj9"
      },
      "execution_count": null,
      "outputs": []
    },
    {
      "cell_type": "markdown",
      "source": [
        "4. *Dealing with age*: There are different ways to deal with this. The dataset only gives us age as 10 year categories, so we don’t know the exact age of each patient. The previous study on this dataset used age categories as nominal variables, but we wanted to be able to see the effect of increasing age on readmission, even if in a crude way. To do that, we assume that age of the patient on average lies at the midpoint of the age category. For example, if the patient’s age category is 20–30 years, then we assume the age = 25 years. So we converted age categories to midpoints, resulting in a numeric variable:"
      ],
      "metadata": {
        "id": "0t2KqOIL-UUB"
      }
    },
    {
      "cell_type": "code",
      "source": [
        "# code age intervals [0-10) - [90-100) from 1-10\n",
        "for i in range(0,10):\n",
        "    df['age'] = df['age'].replace('['+str(10*i)+'-'+str(10*(i+1))+')', i+1)\n",
        "df['age'].value_counts()"
      ],
      "metadata": {
        "colab": {
          "base_uri": "https://localhost:8080/"
        },
        "id": "-7kW522x-VyO",
        "outputId": "86bd3eee-6ace-449c-a729-559c289e1de3"
      },
      "execution_count": null,
      "outputs": [
        {
          "output_type": "execute_result",
          "data": {
            "text/plain": [
              "8     1374\n",
              "7     1111\n",
              "6     1003\n",
              "5      586\n",
              "9      584\n",
              "4      241\n",
              "10      86\n",
              "3       79\n",
              "2       65\n",
              "1       14\n",
              "Name: age, dtype: int64"
            ]
          },
          "metadata": {},
          "execution_count": 16
        }
      ]
    },
    {
      "cell_type": "markdown",
      "source": [
        "*Collapsing of Multiple Encounters for same patient*\n",
        "*   Considering more than 2 readmissions across multiple encounters as readmission for collapsed record.\n",
        "*  Considering average stay at hospital across multiple encounters.\n",
        "* Considering the percentage of the medication changes across multiple encounters\n",
        "* Considering the total number of the encounters to replace the encounter unique ID\n",
        "\n",
        "* Considering the combination of diagnoses across multiple encounters as a list\n",
        "\n",
        ">However, taking the features such as “diagnosis”, for instance, we did not find it not meaningful to combine multiple categorical values into an array for building data model. We then considered first encounter and last encounter separately as possible representations of multiple encounters. However, last encounters gave extremely imbalanced data for readmissions (96/4 Readmissions vs No Readmissions) and thus, we decided to use first encounters of patients with multiple encounters. This resulted in dataset being reduced to about 70,000 encounters:\n",
        "\n"
      ],
      "metadata": {
        "id": "wtJlFG4XJKgq"
      }
    },
    {
      "cell_type": "code",
      "source": [
        "df2 = df.drop_duplicates(subset= ['patient_nbr'], keep = 'first')\n",
        "df2.shape\n",
        "(70442, 55)"
      ],
      "metadata": {
        "colab": {
          "base_uri": "https://localhost:8080/"
        },
        "id": "NGsbMXjxHCR9",
        "outputId": "5ee7c291-0ea7-4335-800b-1a168d5b379e"
      },
      "execution_count": null,
      "outputs": [
        {
          "output_type": "execute_result",
          "data": {
            "text/plain": [
              "(70442, 55)"
            ]
          },
          "metadata": {},
          "execution_count": 17
        }
      ]
    },
    {
      "cell_type": "markdown",
      "source": [
        "*Encoding the outcome variable:*\n",
        "The outcome we are looking at is whether the patient gets readmitted to the hospital within 30 days or not. The variable actually has < 30, > 30 and No Readmission categories. To reduce our problem to a binary classification, we combined the readmission after 30 days and no readmission into a single category:"
      ],
      "metadata": {
        "id": "ACnbUaJ-J7q4"
      }
    },
    {
      "cell_type": "code",
      "source": [
        "df['readmitted'].value_counts()"
      ],
      "metadata": {
        "colab": {
          "base_uri": "https://localhost:8080/"
        },
        "id": "bJlpSMxRJ0V_",
        "outputId": "7a2b3547-fe87-4f7e-b540-be66b20c1af6"
      },
      "execution_count": null,
      "outputs": [
        {
          "output_type": "execute_result",
          "data": {
            "text/plain": [
              "NO     2443\n",
              ">30    2109\n",
              "<30     590\n",
              "Name: readmitted, dtype: int64"
            ]
          },
          "metadata": {},
          "execution_count": 18
        }
      ]
    },
    {
      "cell_type": "code",
      "source": [
        "df['readmitted'] = df['readmitted'].replace('>30', 0)\n",
        "df['readmitted'] = df['readmitted'].replace('<30', 1)\n",
        "df['readmitted'] = df['readmitted'].replace('NO', 0)"
      ],
      "metadata": {
        "id": "_Pta3UbQN1d7"
      },
      "execution_count": null,
      "outputs": []
    },
    {
      "cell_type": "markdown",
      "source": [
        "*Categorization of diagnoses*:\n",
        "\n",
        " The dataset contained up to three diagnoses for a given patient (primary, secondary and additional). However, each of these had 700–900 unique ICD codes and it is extremely difficult to include them in the model and interpret meaningfully. Therefore, we collapsed these diagnosis codes into 9 disease categories in an almost similar fashion to that done in the original publication using this dataset. These 9 categories include Circulatory, Respiratory, Digestive, Diabetes, Injury, Musculoskeletal, Genitourinary, Neoplasms, and Others. Although we did this for primary, secondary and additional diagnoses, we eventually decided to use only the primary diagnosis in our model. Doing this in python was slightly cumbersome because, well, we are mapping the disease codes to certain category names. Below code should demonstrate this easily."
      ],
      "metadata": {
        "id": "9B6iD8SEN4ak"
      }
    },
    {
      "cell_type": "code",
      "source": [
        "# Creating additional columns for diagnosis\n",
        "df['level1_diag1'] = df['diag_1']\n",
        "df['level2_diag1'] = df['diag_1']\n",
        "df['level1_diag2'] = df['diag_2']\n",
        "df['level2_diag2'] = df['diag_2']\n",
        "df['level1_diag3'] = df['diag_3']\n",
        "df['level2_diag3'] = df['diag_3']"
      ],
      "metadata": {
        "id": "e8ti5GTFOInN"
      },
      "execution_count": null,
      "outputs": []
    },
    {
      "cell_type": "code",
      "source": [
        "print(df['level1_diag1'])"
      ],
      "metadata": {
        "colab": {
          "base_uri": "https://localhost:8080/"
        },
        "id": "_tfnM-cORe2U",
        "outputId": "ba9068c2-bc4a-42ab-e893-7b78386f9737"
      },
      "execution_count": null,
      "outputs": [
        {
          "output_type": "stream",
          "name": "stdout",
          "text": [
            "1         276\n",
            "2         648\n",
            "3           8\n",
            "4         197\n",
            "5         414\n",
            "        ...  \n",
            "5529      428\n",
            "5531      414\n",
            "5532    250.8\n",
            "5533    250.6\n",
            "5534      NaN\n",
            "Name: level1_diag1, Length: 5143, dtype: object\n"
          ]
        }
      ]
    },
    {
      "cell_type": "code",
      "source": [
        "df.loc[df['diag_1'].str.contains('V'), ['level1_diag1', 'level2_diag1']] = 0\n",
        "df.loc[df['diag_1'].str.contains('E'), ['level1_diag1', 'level2_diag1']] = 0\n",
        "df.loc[df['diag_2'].str.contains('V'), ['level1_diag2', 'level2_diag2']] = 0\n",
        "df.loc[df['diag_2'].str.contains('E'), ['level1_diag2', 'level2_diag2']] = 0\n",
        "df.loc[df['diag_3'].str.contains('V'), ['level1_diag3', 'level2_diag3']] = 0\n",
        "df.loc[df['diag_3'].str.contains('E'), ['level1_diag3', 'level2_diag3']] = 0\n",
        "df['level1_diag1'] = df['level1_diag1'].replace('?', -1)\n",
        "df['level2_diag1'] = df['level2_diag1'].replace('?', -1)\n",
        "df['level1_diag2'] = df['level1_diag2'].replace('?', -1)\n",
        "df['level2_diag2'] = df['level2_diag2'].replace('?', -1)\n",
        "df['level1_diag3'] = df['level1_diag3'].replace('?', -1)\n",
        "df['level2_diag3'] = df['level2_diag3'].replace('?', -1)"
      ],
      "metadata": {
        "id": "aE_BWIp7Oxp4",
        "colab": {
          "base_uri": "https://localhost:8080/",
          "height": 406
        },
        "outputId": "ab05d5dd-32ee-4291-8f07-d39da1c97e2d"
      },
      "execution_count": null,
      "outputs": [
        {
          "output_type": "error",
          "ename": "ValueError",
          "evalue": "ignored",
          "traceback": [
            "\u001b[0;31m---------------------------------------------------------------------------\u001b[0m",
            "\u001b[0;31mValueError\u001b[0m                                Traceback (most recent call last)",
            "\u001b[0;32m<ipython-input-22-bf04a4c44cd7>\u001b[0m in \u001b[0;36m<cell line: 1>\u001b[0;34m()\u001b[0m\n\u001b[0;32m----> 1\u001b[0;31m \u001b[0mdf\u001b[0m\u001b[0;34m.\u001b[0m\u001b[0mloc\u001b[0m\u001b[0;34m[\u001b[0m\u001b[0mdf\u001b[0m\u001b[0;34m[\u001b[0m\u001b[0;34m'diag_1'\u001b[0m\u001b[0;34m]\u001b[0m\u001b[0;34m.\u001b[0m\u001b[0mstr\u001b[0m\u001b[0;34m.\u001b[0m\u001b[0mcontains\u001b[0m\u001b[0;34m(\u001b[0m\u001b[0;34m'V'\u001b[0m\u001b[0;34m)\u001b[0m\u001b[0;34m,\u001b[0m \u001b[0;34m[\u001b[0m\u001b[0;34m'level1_diag1'\u001b[0m\u001b[0;34m,\u001b[0m \u001b[0;34m'level2_diag1'\u001b[0m\u001b[0;34m]\u001b[0m\u001b[0;34m]\u001b[0m \u001b[0;34m=\u001b[0m \u001b[0;36m0\u001b[0m\u001b[0;34m\u001b[0m\u001b[0;34m\u001b[0m\u001b[0m\n\u001b[0m\u001b[1;32m      2\u001b[0m \u001b[0mdf\u001b[0m\u001b[0;34m.\u001b[0m\u001b[0mloc\u001b[0m\u001b[0;34m[\u001b[0m\u001b[0mdf\u001b[0m\u001b[0;34m[\u001b[0m\u001b[0;34m'diag_1'\u001b[0m\u001b[0;34m]\u001b[0m\u001b[0;34m.\u001b[0m\u001b[0mstr\u001b[0m\u001b[0;34m.\u001b[0m\u001b[0mcontains\u001b[0m\u001b[0;34m(\u001b[0m\u001b[0;34m'E'\u001b[0m\u001b[0;34m)\u001b[0m\u001b[0;34m,\u001b[0m \u001b[0;34m[\u001b[0m\u001b[0;34m'level1_diag1'\u001b[0m\u001b[0;34m,\u001b[0m \u001b[0;34m'level2_diag1'\u001b[0m\u001b[0;34m]\u001b[0m\u001b[0;34m]\u001b[0m \u001b[0;34m=\u001b[0m \u001b[0;36m0\u001b[0m\u001b[0;34m\u001b[0m\u001b[0;34m\u001b[0m\u001b[0m\n\u001b[1;32m      3\u001b[0m \u001b[0mdf\u001b[0m\u001b[0;34m.\u001b[0m\u001b[0mloc\u001b[0m\u001b[0;34m[\u001b[0m\u001b[0mdf\u001b[0m\u001b[0;34m[\u001b[0m\u001b[0;34m'diag_2'\u001b[0m\u001b[0;34m]\u001b[0m\u001b[0;34m.\u001b[0m\u001b[0mstr\u001b[0m\u001b[0;34m.\u001b[0m\u001b[0mcontains\u001b[0m\u001b[0;34m(\u001b[0m\u001b[0;34m'V'\u001b[0m\u001b[0;34m)\u001b[0m\u001b[0;34m,\u001b[0m \u001b[0;34m[\u001b[0m\u001b[0;34m'level1_diag2'\u001b[0m\u001b[0;34m,\u001b[0m \u001b[0;34m'level2_diag2'\u001b[0m\u001b[0;34m]\u001b[0m\u001b[0;34m]\u001b[0m \u001b[0;34m=\u001b[0m \u001b[0;36m0\u001b[0m\u001b[0;34m\u001b[0m\u001b[0;34m\u001b[0m\u001b[0m\n\u001b[1;32m      4\u001b[0m \u001b[0mdf\u001b[0m\u001b[0;34m.\u001b[0m\u001b[0mloc\u001b[0m\u001b[0;34m[\u001b[0m\u001b[0mdf\u001b[0m\u001b[0;34m[\u001b[0m\u001b[0;34m'diag_2'\u001b[0m\u001b[0;34m]\u001b[0m\u001b[0;34m.\u001b[0m\u001b[0mstr\u001b[0m\u001b[0;34m.\u001b[0m\u001b[0mcontains\u001b[0m\u001b[0;34m(\u001b[0m\u001b[0;34m'E'\u001b[0m\u001b[0;34m)\u001b[0m\u001b[0;34m,\u001b[0m \u001b[0;34m[\u001b[0m\u001b[0;34m'level1_diag2'\u001b[0m\u001b[0;34m,\u001b[0m \u001b[0;34m'level2_diag2'\u001b[0m\u001b[0;34m]\u001b[0m\u001b[0;34m]\u001b[0m \u001b[0;34m=\u001b[0m \u001b[0;36m0\u001b[0m\u001b[0;34m\u001b[0m\u001b[0;34m\u001b[0m\u001b[0m\n\u001b[1;32m      5\u001b[0m \u001b[0mdf\u001b[0m\u001b[0;34m.\u001b[0m\u001b[0mloc\u001b[0m\u001b[0;34m[\u001b[0m\u001b[0mdf\u001b[0m\u001b[0;34m[\u001b[0m\u001b[0;34m'diag_3'\u001b[0m\u001b[0;34m]\u001b[0m\u001b[0;34m.\u001b[0m\u001b[0mstr\u001b[0m\u001b[0;34m.\u001b[0m\u001b[0mcontains\u001b[0m\u001b[0;34m(\u001b[0m\u001b[0;34m'V'\u001b[0m\u001b[0;34m)\u001b[0m\u001b[0;34m,\u001b[0m \u001b[0;34m[\u001b[0m\u001b[0;34m'level1_diag3'\u001b[0m\u001b[0;34m,\u001b[0m \u001b[0;34m'level2_diag3'\u001b[0m\u001b[0;34m]\u001b[0m\u001b[0;34m]\u001b[0m \u001b[0;34m=\u001b[0m \u001b[0;36m0\u001b[0m\u001b[0;34m\u001b[0m\u001b[0;34m\u001b[0m\u001b[0m\n",
            "\u001b[0;32m/usr/local/lib/python3.10/dist-packages/pandas/core/indexing.py\u001b[0m in \u001b[0;36m__setitem__\u001b[0;34m(self, key, value)\u001b[0m\n\u001b[1;32m    812\u001b[0m         \u001b[0;32melse\u001b[0m\u001b[0;34m:\u001b[0m\u001b[0;34m\u001b[0m\u001b[0;34m\u001b[0m\u001b[0m\n\u001b[1;32m    813\u001b[0m             \u001b[0mkey\u001b[0m \u001b[0;34m=\u001b[0m \u001b[0mcom\u001b[0m\u001b[0;34m.\u001b[0m\u001b[0mapply_if_callable\u001b[0m\u001b[0;34m(\u001b[0m\u001b[0mkey\u001b[0m\u001b[0;34m,\u001b[0m \u001b[0mself\u001b[0m\u001b[0;34m.\u001b[0m\u001b[0mobj\u001b[0m\u001b[0;34m)\u001b[0m\u001b[0;34m\u001b[0m\u001b[0;34m\u001b[0m\u001b[0m\n\u001b[0;32m--> 814\u001b[0;31m         \u001b[0mindexer\u001b[0m \u001b[0;34m=\u001b[0m \u001b[0mself\u001b[0m\u001b[0;34m.\u001b[0m\u001b[0m_get_setitem_indexer\u001b[0m\u001b[0;34m(\u001b[0m\u001b[0mkey\u001b[0m\u001b[0;34m)\u001b[0m\u001b[0;34m\u001b[0m\u001b[0;34m\u001b[0m\u001b[0m\n\u001b[0m\u001b[1;32m    815\u001b[0m         \u001b[0mself\u001b[0m\u001b[0;34m.\u001b[0m\u001b[0m_has_valid_setitem_indexer\u001b[0m\u001b[0;34m(\u001b[0m\u001b[0mkey\u001b[0m\u001b[0;34m)\u001b[0m\u001b[0;34m\u001b[0m\u001b[0;34m\u001b[0m\u001b[0m\n\u001b[1;32m    816\u001b[0m \u001b[0;34m\u001b[0m\u001b[0m\n",
            "\u001b[0;32m/usr/local/lib/python3.10/dist-packages/pandas/core/indexing.py\u001b[0m in \u001b[0;36m_get_setitem_indexer\u001b[0;34m(self, key)\u001b[0m\n\u001b[1;32m    695\u001b[0m             \u001b[0;32mwith\u001b[0m \u001b[0msuppress\u001b[0m\u001b[0;34m(\u001b[0m\u001b[0mIndexingError\u001b[0m\u001b[0;34m)\u001b[0m\u001b[0;34m:\u001b[0m\u001b[0;34m\u001b[0m\u001b[0;34m\u001b[0m\u001b[0m\n\u001b[1;32m    696\u001b[0m                 \u001b[0;31m# suppress \"Too many indexers\"\u001b[0m\u001b[0;34m\u001b[0m\u001b[0;34m\u001b[0m\u001b[0m\n\u001b[0;32m--> 697\u001b[0;31m                 \u001b[0;32mreturn\u001b[0m \u001b[0mself\u001b[0m\u001b[0;34m.\u001b[0m\u001b[0m_convert_tuple\u001b[0m\u001b[0;34m(\u001b[0m\u001b[0mkey\u001b[0m\u001b[0;34m)\u001b[0m\u001b[0;34m\u001b[0m\u001b[0;34m\u001b[0m\u001b[0m\n\u001b[0m\u001b[1;32m    698\u001b[0m \u001b[0;34m\u001b[0m\u001b[0m\n\u001b[1;32m    699\u001b[0m         \u001b[0;32mif\u001b[0m \u001b[0misinstance\u001b[0m\u001b[0;34m(\u001b[0m\u001b[0mkey\u001b[0m\u001b[0;34m,\u001b[0m \u001b[0mrange\u001b[0m\u001b[0;34m)\u001b[0m\u001b[0;34m:\u001b[0m\u001b[0;34m\u001b[0m\u001b[0;34m\u001b[0m\u001b[0m\n",
            "\u001b[0;32m/usr/local/lib/python3.10/dist-packages/pandas/core/indexing.py\u001b[0m in \u001b[0;36m_convert_tuple\u001b[0;34m(self, key)\u001b[0m\n\u001b[1;32m    894\u001b[0m         \u001b[0;31m# Note: we assume _tupleize_axis_indexer has been called, if necessary.\u001b[0m\u001b[0;34m\u001b[0m\u001b[0;34m\u001b[0m\u001b[0m\n\u001b[1;32m    895\u001b[0m         \u001b[0mself\u001b[0m\u001b[0;34m.\u001b[0m\u001b[0m_validate_key_length\u001b[0m\u001b[0;34m(\u001b[0m\u001b[0mkey\u001b[0m\u001b[0;34m)\u001b[0m\u001b[0;34m\u001b[0m\u001b[0;34m\u001b[0m\u001b[0m\n\u001b[0;32m--> 896\u001b[0;31m         \u001b[0mkeyidx\u001b[0m \u001b[0;34m=\u001b[0m \u001b[0;34m[\u001b[0m\u001b[0mself\u001b[0m\u001b[0;34m.\u001b[0m\u001b[0m_convert_to_indexer\u001b[0m\u001b[0;34m(\u001b[0m\u001b[0mk\u001b[0m\u001b[0;34m,\u001b[0m \u001b[0maxis\u001b[0m\u001b[0;34m=\u001b[0m\u001b[0mi\u001b[0m\u001b[0;34m)\u001b[0m \u001b[0;32mfor\u001b[0m \u001b[0mi\u001b[0m\u001b[0;34m,\u001b[0m \u001b[0mk\u001b[0m \u001b[0;32min\u001b[0m \u001b[0menumerate\u001b[0m\u001b[0;34m(\u001b[0m\u001b[0mkey\u001b[0m\u001b[0;34m)\u001b[0m\u001b[0;34m]\u001b[0m\u001b[0;34m\u001b[0m\u001b[0;34m\u001b[0m\u001b[0m\n\u001b[0m\u001b[1;32m    897\u001b[0m         \u001b[0;32mreturn\u001b[0m \u001b[0mtuple\u001b[0m\u001b[0;34m(\u001b[0m\u001b[0mkeyidx\u001b[0m\u001b[0;34m)\u001b[0m\u001b[0;34m\u001b[0m\u001b[0;34m\u001b[0m\u001b[0m\n\u001b[1;32m    898\u001b[0m \u001b[0;34m\u001b[0m\u001b[0m\n",
            "\u001b[0;32m/usr/local/lib/python3.10/dist-packages/pandas/core/indexing.py\u001b[0m in \u001b[0;36m<listcomp>\u001b[0;34m(.0)\u001b[0m\n\u001b[1;32m    894\u001b[0m         \u001b[0;31m# Note: we assume _tupleize_axis_indexer has been called, if necessary.\u001b[0m\u001b[0;34m\u001b[0m\u001b[0;34m\u001b[0m\u001b[0m\n\u001b[1;32m    895\u001b[0m         \u001b[0mself\u001b[0m\u001b[0;34m.\u001b[0m\u001b[0m_validate_key_length\u001b[0m\u001b[0;34m(\u001b[0m\u001b[0mkey\u001b[0m\u001b[0;34m)\u001b[0m\u001b[0;34m\u001b[0m\u001b[0;34m\u001b[0m\u001b[0m\n\u001b[0;32m--> 896\u001b[0;31m         \u001b[0mkeyidx\u001b[0m \u001b[0;34m=\u001b[0m \u001b[0;34m[\u001b[0m\u001b[0mself\u001b[0m\u001b[0;34m.\u001b[0m\u001b[0m_convert_to_indexer\u001b[0m\u001b[0;34m(\u001b[0m\u001b[0mk\u001b[0m\u001b[0;34m,\u001b[0m \u001b[0maxis\u001b[0m\u001b[0;34m=\u001b[0m\u001b[0mi\u001b[0m\u001b[0;34m)\u001b[0m \u001b[0;32mfor\u001b[0m \u001b[0mi\u001b[0m\u001b[0;34m,\u001b[0m \u001b[0mk\u001b[0m \u001b[0;32min\u001b[0m \u001b[0menumerate\u001b[0m\u001b[0;34m(\u001b[0m\u001b[0mkey\u001b[0m\u001b[0;34m)\u001b[0m\u001b[0;34m]\u001b[0m\u001b[0;34m\u001b[0m\u001b[0;34m\u001b[0m\u001b[0m\n\u001b[0m\u001b[1;32m    897\u001b[0m         \u001b[0;32mreturn\u001b[0m \u001b[0mtuple\u001b[0m\u001b[0;34m(\u001b[0m\u001b[0mkeyidx\u001b[0m\u001b[0;34m)\u001b[0m\u001b[0;34m\u001b[0m\u001b[0;34m\u001b[0m\u001b[0m\n\u001b[1;32m    898\u001b[0m \u001b[0;34m\u001b[0m\u001b[0m\n",
            "\u001b[0;32m/usr/local/lib/python3.10/dist-packages/pandas/core/indexing.py\u001b[0m in \u001b[0;36m_convert_to_indexer\u001b[0;34m(self, key, axis)\u001b[0m\n\u001b[1;32m   1390\u001b[0m                 \u001b[0mkey\u001b[0m \u001b[0;34m=\u001b[0m \u001b[0mlist\u001b[0m\u001b[0;34m(\u001b[0m\u001b[0mkey\u001b[0m\u001b[0;34m)\u001b[0m\u001b[0;34m\u001b[0m\u001b[0;34m\u001b[0m\u001b[0m\n\u001b[1;32m   1391\u001b[0m \u001b[0;34m\u001b[0m\u001b[0m\n\u001b[0;32m-> 1392\u001b[0;31m             \u001b[0;32mif\u001b[0m \u001b[0mcom\u001b[0m\u001b[0;34m.\u001b[0m\u001b[0mis_bool_indexer\u001b[0m\u001b[0;34m(\u001b[0m\u001b[0mkey\u001b[0m\u001b[0;34m)\u001b[0m\u001b[0;34m:\u001b[0m\u001b[0;34m\u001b[0m\u001b[0;34m\u001b[0m\u001b[0m\n\u001b[0m\u001b[1;32m   1393\u001b[0m                 \u001b[0mkey\u001b[0m \u001b[0;34m=\u001b[0m \u001b[0mcheck_bool_indexer\u001b[0m\u001b[0;34m(\u001b[0m\u001b[0mlabels\u001b[0m\u001b[0;34m,\u001b[0m \u001b[0mkey\u001b[0m\u001b[0;34m)\u001b[0m\u001b[0;34m\u001b[0m\u001b[0;34m\u001b[0m\u001b[0m\n\u001b[1;32m   1394\u001b[0m                 \u001b[0;32mreturn\u001b[0m \u001b[0mkey\u001b[0m\u001b[0;34m\u001b[0m\u001b[0;34m\u001b[0m\u001b[0m\n",
            "\u001b[0;32m/usr/local/lib/python3.10/dist-packages/pandas/core/common.py\u001b[0m in \u001b[0;36mis_bool_indexer\u001b[0;34m(key)\u001b[0m\n\u001b[1;32m    133\u001b[0m                     \u001b[0;31m# Don't raise on e.g. [\"A\", \"B\", np.nan], see\u001b[0m\u001b[0;34m\u001b[0m\u001b[0;34m\u001b[0m\u001b[0m\n\u001b[1;32m    134\u001b[0m                     \u001b[0;31m#  test_loc_getitem_list_of_labels_categoricalindex_with_na\u001b[0m\u001b[0;34m\u001b[0m\u001b[0;34m\u001b[0m\u001b[0m\n\u001b[0;32m--> 135\u001b[0;31m                     \u001b[0;32mraise\u001b[0m \u001b[0mValueError\u001b[0m\u001b[0;34m(\u001b[0m\u001b[0mna_msg\u001b[0m\u001b[0;34m)\u001b[0m\u001b[0;34m\u001b[0m\u001b[0;34m\u001b[0m\u001b[0m\n\u001b[0m\u001b[1;32m    136\u001b[0m                 \u001b[0;32mreturn\u001b[0m \u001b[0;32mFalse\u001b[0m\u001b[0;34m\u001b[0m\u001b[0;34m\u001b[0m\u001b[0m\n\u001b[1;32m    137\u001b[0m             \u001b[0;32mreturn\u001b[0m \u001b[0;32mTrue\u001b[0m\u001b[0;34m\u001b[0m\u001b[0;34m\u001b[0m\u001b[0m\n",
            "\u001b[0;31mValueError\u001b[0m: Cannot mask with non-boolean array containing NA / NaN values"
          ]
        }
      ]
    },
    {
      "cell_type": "code",
      "source": [
        "df['level1_diag1'] = df['level1_diag1'].astype(float)\n",
        "df['level2_diag1'] = df['level2_diag1'].astype(float)\n",
        "df['level1_diag2'] = df['level1_diag2'].astype(float)\n",
        "df['level2_diag2'] = df['level2_diag2'].astype(float)\n",
        "df['level1_diag3'] = df['level1_diag3'].astype(float)\n",
        "df['level2_diag3'] = df['level2_diag3'].astype(float)"
      ],
      "metadata": {
        "id": "ATnrCWGjGWmF"
      },
      "execution_count": null,
      "outputs": []
    },
    {
      "cell_type": "code",
      "source": [
        "for index, row in df.iterrows():\n",
        "    if (row['level1_diag1'] >= 390 and row['level1_diag1'] < 460) or (np.floor(row['level1_diag1']) == 785):\n",
        "        df.loc[index, 'level1_diag1'] = 1\n",
        "    elif (row['level1_diag1'] >= 460 and row['level1_diag1'] < 520) or (np.floor(row['level1_diag1']) == 786):\n",
        "        df.loc[index, 'level1_diag1'] = 2\n",
        "    elif (row['level1_diag1'] >= 520 and row['level1_diag1'] < 580) or (np.floor(row['level1_diag1']) == 787):\n",
        "        df.loc[index, 'level1_diag1'] = 3\n",
        "    elif (np.floor(row['level1_diag1']) == 250):\n",
        "        df.loc[index, 'level1_diag1'] = 4\n",
        "    elif (row['level1_diag1'] >= 800 and row['level1_diag1'] < 1000):\n",
        "        df.loc[index, 'level1_diag1'] = 5\n",
        "    elif (row['level1_diag1'] >= 710 and row['level1_diag1'] < 740):\n",
        "        df.loc[index, 'level1_diag1'] = 6\n",
        "    elif (row['level1_diag1'] >= 580 and row['level1_diag1'] < 630) or (np.floor(row['level1_diag1']) == 788):\n",
        "        df.loc[index, 'level1_diag1'] = 7\n",
        "    elif (row['level1_diag1'] >= 140 and row['level1_diag1'] < 240):\n",
        "        df.loc[index, 'level1_diag1'] = 8\n",
        "    else:\n",
        "        df.loc[index, 'level1_diag1'] = 0\n",
        "\n",
        "    if (row['level1_diag2'] >= 390 and row['level1_diag2'] < 460) or (np.floor(row['level1_diag2']) == 785):\n",
        "        df.loc[index, 'level1_diag2'] = 1\n",
        "    elif (row['level1_diag2'] >= 460 and row['level1_diag2'] < 520) or (np.floor(row['level1_diag2']) == 786):\n",
        "        df.loc[index, 'level1_diag2'] = 2\n",
        "    elif (row['level1_diag2'] >= 520 and row['level1_diag2'] < 580) or (np.floor(row['level1_diag2']) == 787):\n",
        "        df.loc[index, 'level1_diag2'] = 3\n",
        "    elif (np.floor(row['level1_diag2']) == 250):\n",
        "        df.loc[index, 'level1_diag2'] = 4\n",
        "    elif (row['level1_diag2'] >= 800 and row['level1_diag2'] < 1000):\n",
        "        df.loc[index, 'level1_diag2'] = 5\n",
        "    elif (row['level1_diag2'] >= 710 and row['level1_diag2'] < 740):\n",
        "        df.loc[index, 'level1_diag2'] = 6\n",
        "    elif (row['level1_diag2'] >= 580 and row['level1_diag2'] < 630) or (np.floor(row['level1_diag2']) == 788):\n",
        "        df.loc[index, 'level1_diag2'] = 7\n",
        "    elif (row['level1_diag2'] >= 140 and row['level1_diag2'] < 240):\n",
        "        df.loc[index, 'level1_diag2'] = 8\n",
        "    else:\n",
        "        df.loc[index, 'level1_diag2'] = 0\n",
        "\n",
        "    if (row['level1_diag3'] >= 390 and row['level1_diag3'] < 460) or (np.floor(row['level1_diag3']) == 785):\n",
        "        df.loc[index, 'level1_diag3'] = 1\n",
        "    elif (row['level1_diag3'] >= 460 and row['level1_diag3'] < 520) or (np.floor(row['level1_diag3']) == 786):\n",
        "        df.loc[index, 'level1_diag3'] = 2\n",
        "    elif (row['level1_diag3'] >= 520 and row['level1_diag3'] < 580) or (np.floor(row['level1_diag3']) == 787):\n",
        "        df.loc[index, 'level1_diag3'] = 3\n",
        "    elif (np.floor(row['level1_diag3']) == 250):\n",
        "        df.loc[index, 'level1_diag3'] = 4\n",
        "    elif (row['level1_diag3'] >= 800 and row['level1_diag3'] < 1000):\n",
        "        df.loc[index, 'level1_diag3'] = 5\n",
        "    elif (row['level1_diag3'] >= 710 and row['level1_diag3'] < 740):\n",
        "        df.loc[index, 'level1_diag3'] = 6\n",
        "    elif (row['level1_diag3'] >= 580 and row['level1_diag3'] < 630) or (np.floor(row['level1_diag3']) == 788):\n",
        "        df.loc[index, 'level1_diag3'] = 7\n",
        "    elif (row['level1_diag3'] >= 140 and row['level1_diag3'] < 240):\n",
        "        df.loc[index, 'level1_diag3'] = 8\n",
        "    else:\n",
        "        df.loc[index, 'level1_diag3'] = 0"
      ],
      "metadata": {
        "id": "L1fMmwT6Hh6-"
      },
      "execution_count": null,
      "outputs": []
    },
    {
      "cell_type": "code",
      "source": [
        "for index, row in df.iterrows():\n",
        "    if (row['level2_diag1'] >= 390 and row['level2_diag1'] < 399):\n",
        "        df.loc[index, 'level2_diag1'] = 1\n",
        "    elif (row['level2_diag1'] >= 401 and row['level2_diag1'] < 415):\n",
        "        df.loc[index, 'level2_diag1'] = 2\n",
        "    elif (row['level2_diag1'] >= 415 and row['level2_diag1'] < 460):\n",
        "        df.loc[index, 'level2_diag1'] = 3\n",
        "    elif (np.floor(row['level2_diag1']) == 785):\n",
        "        df.loc[index, 'level2_diag1'] = 4\n",
        "    elif (row['level2_diag1'] >= 460 and row['level2_diag1'] < 489):\n",
        "        df.loc[index, 'level2_diag1'] = 5\n",
        "    elif (row['level2_diag1'] >= 490 and row['level2_diag1'] < 497):\n",
        "        df.loc[index, 'level2_diag1'] = 6\n",
        "    elif (row['level2_diag1'] >= 500 and row['level2_diag1'] < 520):\n",
        "        df.loc[index, 'level2_diag1'] = 7\n",
        "    elif (np.floor(row['level2_diag1']) == 786):\n",
        "        df.loc[index, 'level2_diag1'] = 8\n",
        "    elif (row['level2_diag1'] >= 520 and row['level2_diag1'] < 530):\n",
        "        df.loc[index, 'level2_diag1'] = 9\n",
        "    elif (row['level2_diag1'] >= 530 and row['level2_diag1'] < 544):\n",
        "        df.loc[index, 'level2_diag1'] = 10\n",
        "    elif (row['level2_diag1'] >= 550 and row['level2_diag1'] < 554):\n",
        "        df.loc[index, 'level2_diag1'] = 11\n",
        "    elif (row['level2_diag1'] >= 555 and row['level2_diag1'] < 580):\n",
        "        df.loc[index, 'level2_diag1'] = 12\n",
        "    elif (np.floor(row['level2_diag1']) == 787):\n",
        "        df.loc[index, 'level2_diag1'] = 13\n",
        "    elif (np.floor(row['level2_diag1']) == 250):\n",
        "        df.loc[index, 'level2_diag1'] = 14\n",
        "    elif (row['level2_diag1'] >= 800 and row['level2_diag1'] < 1000):\n",
        "        df.loc[index, 'level2_diag1'] = 15\n",
        "    elif (row['level2_diag1'] >= 710 and row['level2_diag1'] < 740):\n",
        "        df.loc[index, 'level2_diag1'] = 16\n",
        "    elif (row['level2_diag1'] >= 580 and row['level2_diag1'] < 630):\n",
        "        df.loc[index, 'level2_diag1'] = 17\n",
        "    elif (np.floor(row['level2_diag1']) == 788):\n",
        "        df.loc[index, 'level2_diag1'] = 18\n",
        "    elif (row['level2_diag1'] >= 140 and row['level2_diag1'] < 240):\n",
        "        df.loc[index, 'level2_diag1'] = 19\n",
        "    elif row['level2_diag1'] >= 240 and row['level2_diag1'] < 280 and (np.floor(row['level2_diag1']) != 250):\n",
        "        df.loc[index, 'level2_diag1'] = 20\n",
        "    elif (row['level2_diag1'] >= 680 and row['level2_diag1'] < 710) or (np.floor(row['level2_diag1']) == 782):\n",
        "        df.loc[index, 'level2_diag1'] = 21\n",
        "    elif (row['level2_diag1'] >= 290 and row['level2_diag1'] < 320):\n",
        "        df.loc[index, 'level2_diag1'] = 22\n",
        "    else:\n",
        "        df.loc[index, 'level2_diag1'] = 0\n",
        "\n",
        "    if (row['level2_diag2'] >= 390 and row['level2_diag2'] < 399):\n",
        "        df.loc[index, 'level2_diag2'] = 1\n",
        "    elif (row['level2_diag2'] >= 401 and row['level2_diag2'] < 415):\n",
        "        df.loc[index, 'level2_diag2'] = 2\n",
        "    elif (row['level2_diag2'] >= 415 and row['level2_diag2'] < 460):\n",
        "        df.loc[index, 'level2_diag2'] = 3\n",
        "    elif (np.floor(row['level2_diag2']) == 785):\n",
        "        df.loc[index, 'level2_diag2'] = 4\n",
        "    elif (row['level2_diag2'] >= 460 and row['level2_diag2'] < 489):\n",
        "        df.loc[index, 'level2_diag2'] = 5\n",
        "    elif (row['level2_diag2'] >= 490 and row['level2_diag2'] < 497):\n",
        "        df.loc[index, 'level2_diag2'] = 6\n",
        "    elif (row['level2_diag2'] >= 500 and row['level2_diag2'] < 520):\n",
        "        df.loc[index, 'level2_diag2'] = 7\n",
        "    elif (np.floor(row['level2_diag2']) == 786):\n",
        "        df.loc[index, 'level2_diag2'] = 8\n",
        "    elif (row['level2_diag2'] >= 520 and row['level2_diag2'] < 530):\n",
        "        df.loc[index, 'level2_diag2'] = 9\n",
        "    elif (row['level2_diag2'] >= 530 and row['level2_diag2'] < 544):\n",
        "        df.loc[index, 'level2_diag2'] = 10\n",
        "    elif (row['level2_diag2'] >= 550 and row['level2_diag2'] < 554):\n",
        "        df.loc[index, 'level2_diag2'] = 11\n",
        "    elif (row['level2_diag2'] >= 555 and row['level2_diag2'] < 580):\n",
        "        df.loc[index, 'level2_diag2'] = 12\n",
        "    elif (np.floor(row['level2_diag2']) == 787):\n",
        "        df.loc[index, 'level2_diag2'] = 13\n",
        "    elif (np.floor(row['level2_diag2']) == 250):\n",
        "        df.loc[index, 'level2_diag2'] = 14\n",
        "    elif (row['level2_diag2'] >= 800 and row['level2_diag2'] < 1000):\n",
        "        df.loc[index, 'level2_diag2'] = 15\n",
        "    elif (row['level2_diag2'] >= 710 and row['level2_diag2'] < 740):\n",
        "        df.loc[index, 'level2_diag2'] = 16\n",
        "    elif (row['level2_diag2'] >= 580 and row['level2_diag2'] < 630):\n",
        "        df.loc[index, 'level2_diag2'] = 17\n",
        "    elif (np.floor(row['level2_diag2']) == 788):\n",
        "        df.loc[index, 'level2_diag2'] = 18\n",
        "    elif (row['level2_diag2'] >= 140 and row['level2_diag2'] < 240):\n",
        "        df.loc[index, 'level2_diag2'] = 19\n",
        "    elif row['level2_diag2'] >= 240 and row['level2_diag2'] < 280 and (np.floor(row['level2_diag2']) != 250):\n",
        "        df.loc[index, 'level2_diag2'] = 20\n",
        "    elif (row['level2_diag2'] >= 680 and row['level2_diag2'] < 710) or (np.floor(row['level2_diag2']) == 782):\n",
        "        df.loc[index, 'level2_diag2'] = 21\n",
        "    elif (row['level2_diag2'] >= 290 and row['level2_diag2'] < 320):\n",
        "        df.loc[index, 'level2_diag2'] = 22\n",
        "    else:\n",
        "        df.loc[index, 'level2_diag2'] = 0\n",
        "\n",
        "\n",
        "    if (row['level2_diag3'] >= 390 and row['level2_diag3'] < 399):\n",
        "        df.loc[index, 'level2_diag3'] = 1\n",
        "    elif (row['level2_diag3'] >= 401 and row['level2_diag3'] < 415):\n",
        "        df.loc[index, 'level2_diag3'] = 2\n",
        "    elif (row['level2_diag3'] >= 415 and row['level2_diag3'] < 460):\n",
        "        df.loc[index, 'level2_diag3'] = 3\n",
        "    elif (np.floor(row['level2_diag3']) == 785):\n",
        "        df.loc[index, 'level2_diag3'] = 4\n",
        "    elif (row['level2_diag3'] >= 460 and row['level2_diag3'] < 489):\n",
        "        df.loc[index, 'level2_diag3'] = 5\n",
        "    elif (row['level2_diag3'] >= 490 and row['level2_diag3'] < 497):\n",
        "        df.loc[index, 'level2_diag3'] = 6\n",
        "    elif (row['level2_diag3'] >= 500 and row['level2_diag3'] < 520):\n",
        "        df.loc[index, 'level2_diag3'] = 7\n",
        "    elif (np.floor(row['level2_diag3']) == 786):\n",
        "        df.loc[index, 'level2_diag3'] = 8\n",
        "    elif (row['level2_diag3'] >= 520 and row['level2_diag3'] < 530):\n",
        "        df.loc[index, 'level2_diag3'] = 9\n",
        "    elif (row['level2_diag3'] >= 530 and row['level2_diag3'] < 544):\n",
        "        df.loc[index, 'level2_diag3'] = 10\n",
        "    elif (row['level2_diag3'] >= 550 and row['level2_diag3'] < 554):\n",
        "        df.loc[index, 'level2_diag3'] = 11\n",
        "    elif (row['level2_diag3'] >= 555 and row['level2_diag3'] < 580):\n",
        "        df.loc[index, 'level2_diag3'] = 12\n",
        "    elif (np.floor(row['level2_diag3']) == 787):\n",
        "        df.loc[index, 'level2_diag3'] = 13\n",
        "    elif (np.floor(row['level2_diag3']) == 250):\n",
        "        df.loc[index, 'level2_diag3'] = 14\n",
        "    elif (row['level2_diag3'] >= 800 and row['level2_diag3'] < 1000):\n",
        "        df.loc[index, 'level2_diag3'] = 15\n",
        "    elif (row['level2_diag3'] >= 710 and row['level2_diag3'] < 740):\n",
        "        df.loc[index, 'level2_diag3'] = 16\n",
        "    elif (row['level2_diag3'] >= 580 and row['level2_diag3'] < 630):\n",
        "        df.loc[index, 'level2_diag3'] = 17\n",
        "    elif (np.floor(row['level2_diag3']) == 788):\n",
        "        df.loc[index, 'level2_diag3'] = 18\n",
        "    elif (row['level2_diag3'] >= 140 and row['level2_diag3'] < 240):\n",
        "        df.loc[index, 'level2_diag3'] = 19\n",
        "    elif row['level2_diag3'] >= 240 and row['level2_diag3'] < 280 and (np.floor(row['level2_diag3']) != 250):\n",
        "        df.loc[index, 'level2_diag3'] = 20\n",
        "    elif (row['level2_diag3'] >= 680 and row['level2_diag3'] < 710) or (np.floor(row['level2_diag3']) == 782):\n",
        "        df.loc[index, 'level2_diag3'] = 21\n",
        "    elif (row['level2_diag3'] >= 290 and row['level2_diag3'] < 320):\n",
        "        df.loc[index, 'level2_diag3'] = 22\n",
        "    else:\n",
        "        df.loc[index, 'level2_diag3'] = 0"
      ],
      "metadata": {
        "id": "lzrdyRWDHpB_"
      },
      "execution_count": null,
      "outputs": []
    },
    {
      "cell_type": "markdown",
      "source": [
        "## Data Visualization\n"
      ],
      "metadata": {
        "id": "RMn6bOZxHtUl"
      }
    },
    {
      "cell_type": "markdown",
      "source": [
        "**Distribution of Readmission**\n",
        "Our target variable is imbalance. Number of readmitted patient are quite less as compared to Not readmitted\n"
      ],
      "metadata": {
        "id": "GLXeWfAPH1BZ"
      }
    },
    {
      "cell_type": "code",
      "source": [
        "sns.countplot(data=df, x='readmitted')\n",
        "plt.title('Distribution of Readmission')\n",
        "plt.show()"
      ],
      "metadata": {
        "colab": {
          "base_uri": "https://localhost:8080/",
          "height": 472
        },
        "id": "tdZLcS8lHy8a",
        "outputId": "755c63a8-342c-4c02-f37f-201169eb5a41"
      },
      "execution_count": null,
      "outputs": [
        {
          "output_type": "display_data",
          "data": {
            "text/plain": [
              "<Figure size 640x480 with 1 Axes>"
            ],
            "image/png": "[encoded data removed]"
          },
          "metadata": {}
        }
      ]
    },
    {
      "cell_type": "markdown",
      "source": [
        "Time in Hospital and Readmission"
      ],
      "metadata": {
        "id": "Qh8GBVW1LMBJ"
      }
    },
    {
      "cell_type": "code",
      "source": [
        "fig = plt.figure(figsize=(13,7),)\n",
        "ax=sns.kdeplot(df.loc[(df['readmitted'] == 0),'time_in_hospital'] , color='b',shade=True,label='Not Readmitted')\n",
        "ax=sns.kdeplot(df.loc[(df['readmitted'] == 1),'time_in_hospital'] , color='r',shade=True, label='Readmitted')\n",
        "ax.set(xlabel='Time in Hospital', ylabel='Frequency')\n",
        "plt.title('Time in Hospital VS. Readmission')"
      ],
      "metadata": {
        "colab": {
          "base_uri": "https://localhost:8080/",
          "height": 877
        },
        "id": "8l0Tt-xaLQnJ",
        "outputId": "4891d85b-10fe-43bb-a792-81c87bd45e2a"
      },
      "execution_count": null,
      "outputs": [
        {
          "output_type": "stream",
          "name": "stderr",
          "text": [
            "<ipython-input-27-13feb082618e>:2: FutureWarning: \n",
            "\n",
            "`shade` is now deprecated in favor of `fill`; setting `fill=True`.\n",
            "This will become an error in seaborn v0.14.0; please update your code.\n",
            "\n",
            "  ax=sns.kdeplot(df.loc[(df['readmitted'] == 0),'time_in_hospital'] , color='b',shade=True,label='Not Readmitted')\n",
            "<ipython-input-27-13feb082618e>:3: FutureWarning: \n",
            "\n",
            "`shade` is now deprecated in favor of `fill`; setting `fill=True`.\n",
            "This will become an error in seaborn v0.14.0; please update your code.\n",
            "\n",
            "  ax=sns.kdeplot(df.loc[(df['readmitted'] == 1),'time_in_hospital'] , color='r',shade=True, label='Readmitted')\n"
          ]
        },
        {
          "output_type": "execute_result",
          "data": {
            "text/plain": [
              "Text(0.5, 1.0, 'Time in Hospital VS. Readmission')"
            ]
          },
          "metadata": {},
          "execution_count": 27
        },
        {
          "output_type": "display_data",
          "data": {
            "text/plain": [
              "<Figure size 1300x700 with 1 Axes>"
            ],
            "image/png": "[encoded data removed]"
          },
          "metadata": {}
        }
      ]
    },
    {
      "cell_type": "markdown",
      "source": [
        "Age and Readmission\n",
        "\n"
      ],
      "metadata": {
        "id": "VFRpGGRxnmex"
      }
    },
    {
      "cell_type": "code",
      "source": [
        "fig = plt.figure(figsize=(15,10))\n",
        "sns.countplot(y= df['age'], hue = df['readmitted'])\n",
        "plt.title('Age of Patient VS. Readmission')\n",
        "plt.show()"
      ],
      "metadata": {
        "colab": {
          "base_uri": "https://localhost:8080/",
          "height": 872
        },
        "id": "ajqVmZx2nyzb",
        "outputId": "fbf7764a-d9b4-4133-9dcc-6cc6864c7833"
      },
      "execution_count": null,
      "outputs": [
        {
          "output_type": "display_data",
          "data": {
            "text/plain": [
              "<Figure size 1500x1000 with 1 Axes>"
            ],
            "image/png": "[encoded data removed]"
          },
          "metadata": {}
        }
      ]
    },
    {
      "cell_type": "markdown",
      "source": [
        "Ethnicity of patient and Readmission"
      ],
      "metadata": {
        "id": "fz5nV6rAn98x"
      }
    },
    {
      "cell_type": "code",
      "source": [
        "fig = plt.figure(figsize=(8,8))\n",
        "sns.countplot(y = df['race'], hue = df['readmitted'])"
      ],
      "metadata": {
        "colab": {
          "base_uri": "https://localhost:8080/",
          "height": 714
        },
        "id": "vWk6j2DMn-n3",
        "outputId": "757d25d2-4adf-4cf8-acb5-f408983b5cb3"
      },
      "execution_count": null,
      "outputs": [
        {
          "output_type": "execute_result",
          "data": {
            "text/plain": [
              "<Axes: xlabel='count', ylabel='race'>"
            ]
          },
          "metadata": {},
          "execution_count": 29
        },
        {
          "output_type": "display_data",
          "data": {
            "text/plain": [
              "<Figure size 800x800 with 1 Axes>"
            ],
            "image/png": "[encoded data removed]"
          },
          "metadata": {}
        }
      ]
    },
    {
      "cell_type": "markdown",
      "source": [
        "Number of medication used and Readmission"
      ],
      "metadata": {
        "id": "AXEd8ExIoJi2"
      }
    },
    {
      "cell_type": "code",
      "source": [
        "fig = plt.figure(figsize=(8,8))\n",
        "sns.barplot(x = df['readmitted'], y = df['num_medications']).set_title(\"Number of medication used VS. Readmission\")"
      ],
      "metadata": {
        "colab": {
          "base_uri": "https://localhost:8080/",
          "height": 736
        },
        "id": "xduUBMNNoK-U",
        "outputId": "87dbcb2d-2200-4413-b4a5-283d6c25d0d7"
      },
      "execution_count": null,
      "outputs": [
        {
          "output_type": "execute_result",
          "data": {
            "text/plain": [
              "Text(0.5, 1.0, 'Number of medication used VS. Readmission')"
            ]
          },
          "metadata": {},
          "execution_count": 30
        },
        {
          "output_type": "display_data",
          "data": {
            "text/plain": [
              "<Figure size 800x800 with 1 Axes>"
            ],
            "image/png": "[encoded data removed]"
          },
          "metadata": {}
        }
      ]
    },
    {
      "cell_type": "markdown",
      "source": [
        "Gender and Readmission\n",
        "\n",
        "*   Male = 1\n",
        "*   Female = 0\n",
        "\n"
      ],
      "metadata": {
        "id": "iJ3l114QoQxL"
      }
    },
    {
      "cell_type": "code",
      "source": [
        "fig = plt.figure(figsize=(8, 8))\n",
        "sns.countplot(x='gender', data=df, hue='readmitted')\n",
        "plt.title(\"Gender of Patient VS. Readmission\")\n",
        "plt.show()"
      ],
      "metadata": {
        "colab": {
          "base_uri": "https://localhost:8080/",
          "height": 718
        },
        "id": "PTUjzMbUoRTE",
        "outputId": "60af9a5d-31e4-4b34-fc82-e49590b06abe"
      },
      "execution_count": null,
      "outputs": [
        {
          "output_type": "display_data",
          "data": {
            "text/plain": [
              "<Figure size 800x800 with 1 Axes>"
            ],
            "image/png": "[encoded data removed]"
          },
          "metadata": {}
        }
      ]
    },
    {
      "cell_type": "markdown",
      "source": [
        "Change of Medication and Readmission\n",
        "* Change = 1\n",
        "* No Change = 0"
      ],
      "metadata": {
        "id": "YwucvNN8qDiU"
      }
    },
    {
      "cell_type": "code",
      "source": [
        "fig = plt.figure(figsize=(8, 8))\n",
        "sns.countplot(x='change', hue='readmitted', data=df)\n",
        "plt.title('Change of Medication VS. Readmission')\n",
        "plt.xlabel('Change in Medication')\n",
        "plt.ylabel('Count')\n",
        "plt.legend(title='Readmission')\n",
        "plt.show()"
      ],
      "metadata": {
        "colab": {
          "base_uri": "https://localhost:8080/",
          "height": 718
        },
        "id": "gkV4XUnVqM29",
        "outputId": "307e4f57-f2f8-4345-a984-daf508a4a897"
      },
      "execution_count": null,
      "outputs": [
        {
          "output_type": "display_data",
          "data": {
            "text/plain": [
              "<Figure size 800x800 with 1 Axes>"
            ],
            "image/png": "[encoded data removed]"
          },
          "metadata": {}
        }
      ]
    },
    {
      "cell_type": "markdown",
      "source": [
        "Diabetes Medication prescribed and Readmission\n",
        "*  Diabetes Medication - Nominal\n",
        "* Indicates if there was any diabetic medication prescribed.\n",
        "* Values: “yes” : 1 “no” : 0"
      ],
      "metadata": {
        "id": "PuqiGCrWqTsm"
      }
    },
    {
      "cell_type": "code",
      "source": [
        "fig = plt.figure(figsize=(8,8))\n",
        "sns.countplot(x='diabetesMed', hue='readmitted', data=df)\n",
        "plt.title('Diabetes Medication Prescribed VS Readmission')\n",
        "plt.xlabel('Diabetes Medication Prescribed')\n",
        "plt.ylabel('Count')\n",
        "plt.legend(title='Readmission')\n",
        "plt.show()"
      ],
      "metadata": {
        "colab": {
          "base_uri": "https://localhost:8080/",
          "height": 718
        },
        "id": "zHyCDENwqqtz",
        "outputId": "322fc57d-7fe8-4a26-d63d-fac4cf557808"
      },
      "execution_count": null,
      "outputs": [
        {
          "output_type": "display_data",
          "data": {
            "text/plain": [
              "<Figure size 800x800 with 1 Axes>"
            ],
            "image/png": "[encoded data removed]"
          },
          "metadata": {}
        }
      ]
    },
    {
      "cell_type": "markdown",
      "source": [
        "Service Utilization and Readmission"
      ],
      "metadata": {
        "id": "-izcMPyTq4Zq"
      }
    },
    {
      "cell_type": "code",
      "source": [
        "fig = plt.figure(figsize=(8,8))\n",
        "sns.barplot( y = df['service_utilization'], x = df['readmitted'])\n",
        "plt.title('Service Utilization VS. Readmission')"
      ],
      "metadata": {
        "colab": {
          "base_uri": "https://localhost:8080/",
          "height": 736
        },
        "id": "mjLhII7zq5Gd",
        "outputId": "76efd3dc-0ff8-428e-d787-0b5a89a65a81"
      },
      "execution_count": null,
      "outputs": [
        {
          "output_type": "execute_result",
          "data": {
            "text/plain": [
              "Text(0.5, 1.0, 'Service Utilization VS. Readmission')"
            ]
          },
          "metadata": {},
          "execution_count": 45
        },
        {
          "output_type": "display_data",
          "data": {
            "text/plain": [
              "<Figure size 800x800 with 1 Axes>"
            ],
            "image/png": "[encoded data removed]"
          },
          "metadata": {}
        }
      ]
    },
    {
      "cell_type": "markdown",
      "source": [
        "Glucose serum test result and Readmission\n",
        "\n",
        "*Glucose Serum test* - A blood glucose test is used to find out if your blood sugar levels are in the healthy range. It is often used to help diagnose and monitor diabetes.\n",
        "\n",
        "* '>200' : 1 = indicates diabetes\n",
        "* '>300' : 1 = Indicates diabetes\n",
        "* 'Norm' : 0 = Normal\n",
        "* 'None' : -99 = test was not taken"
      ],
      "metadata": {
        "id": "Ty7tIhBNrLPA"
      }
    },
    {
      "cell_type": "code",
      "source": [
        "fig = plt.figure(figsize=(8,8))\n",
        "sns.countplot(y = df['max_glu_serum'], hue = df['readmitted'])\n",
        "plt.title('Glucose test serum test result VS. Readmission')"
      ],
      "metadata": {
        "colab": {
          "base_uri": "https://localhost:8080/",
          "height": 736
        },
        "id": "IbMnSkuArSWX",
        "outputId": "938ac8c4-5e61-467e-b821-32c53dd2f989"
      },
      "execution_count": null,
      "outputs": [
        {
          "output_type": "execute_result",
          "data": {
            "text/plain": [
              "Text(0.5, 1.0, 'Glucose test serum test result VS. Readmission')"
            ]
          },
          "metadata": {},
          "execution_count": 46
        },
        {
          "output_type": "display_data",
          "data": {
            "text/plain": [
              "<Figure size 800x800 with 1 Axes>"
            ],
            "image/png": "[encoded data removed]"
          },
          "metadata": {}
        }
      ]
    },
    {
      "cell_type": "markdown",
      "source": [
        "A1C result and Readmission\n",
        "\n",
        "*A1C test* - The A1C test is a blood test that provides information about your average levels of blood glucose, also called blood sugar, over the past 3 months.\n",
        "\n",
        "* '>7' : 1\n",
        "* '>8' : 1\n",
        "* Norm : 0 = Normal\n",
        "* None : -99 = Test was not taken"
      ],
      "metadata": {
        "id": "z9rANRYbreeQ"
      }
    },
    {
      "cell_type": "code",
      "source": [
        "fig = plt.figure(figsize=(8,8))\n",
        "sns.countplot(y= df['A1Cresult'], hue = df['readmitted'])\n",
        "plt.title('A1C test result VS. Readmission')"
      ],
      "metadata": {
        "colab": {
          "base_uri": "https://localhost:8080/",
          "height": 736
        },
        "id": "-xgap903sNNe",
        "outputId": "b20dec79-f0dc-449c-ef81-2b9112eee044"
      },
      "execution_count": null,
      "outputs": [
        {
          "output_type": "execute_result",
          "data": {
            "text/plain": [
              "Text(0.5, 1.0, 'A1C test result VS. Readmission')"
            ]
          },
          "metadata": {},
          "execution_count": 47
        },
        {
          "output_type": "display_data",
          "data": {
            "text/plain": [
              "<Figure size 800x800 with 1 Axes>"
            ],
            "image/png": "[encoded data removed]"
          },
          "metadata": {}
        }
      ]
    },
    {
      "cell_type": "markdown",
      "source": [
        "Number of lab procedure and Readmission"
      ],
      "metadata": {
        "id": "39oFNczgsqIY"
      }
    },
    {
      "cell_type": "code",
      "source": [
        "fig = plt.figure(figsize=(15,6),)\n",
        "ax=sns.kdeplot(df.loc[(df['readmitted'] == 0),'num_lab_procedures'] , color='b',shade=True,label='Not readmitted')\n",
        "ax=sns.kdeplot(df.loc[(df['readmitted'] == 1),'num_lab_procedures'] , color='r',shade=True, label='readmitted')\n",
        "ax.set(xlabel='Number of lab procedure', ylabel='Frequency')\n",
        "plt.title('Number of lab procedure VS. Readmission')"
      ],
      "metadata": {
        "colab": {
          "base_uri": "https://localhost:8080/",
          "height": 800
        },
        "id": "In9RTphLsrAy",
        "outputId": "2b9065f5-25c6-4adf-8aab-b88e880f65e9"
      },
      "execution_count": null,
      "outputs": [
        {
          "output_type": "stream",
          "name": "stderr",
          "text": [
            "<ipython-input-48-217a4e5fe706>:2: FutureWarning: \n",
            "\n",
            "`shade` is now deprecated in favor of `fill`; setting `fill=True`.\n",
            "This will become an error in seaborn v0.14.0; please update your code.\n",
            "\n",
            "  ax=sns.kdeplot(df.loc[(df['readmitted'] == 0),'num_lab_procedures'] , color='b',shade=True,label='Not readmitted')\n",
            "<ipython-input-48-217a4e5fe706>:3: FutureWarning: \n",
            "\n",
            "`shade` is now deprecated in favor of `fill`; setting `fill=True`.\n",
            "This will become an error in seaborn v0.14.0; please update your code.\n",
            "\n",
            "  ax=sns.kdeplot(df.loc[(df['readmitted'] == 1),'num_lab_procedures'] , color='r',shade=True, label='readmitted')\n"
          ]
        },
        {
          "output_type": "execute_result",
          "data": {
            "text/plain": [
              "Text(0.5, 1.0, 'Number of lab procedure VS. Readmission')"
            ]
          },
          "metadata": {},
          "execution_count": 48
        },
        {
          "output_type": "display_data",
          "data": {
            "text/plain": [
              "<Figure size 1500x600 with 1 Axes>"
            ],
            "image/png": "[encoded data removed]"
          },
          "metadata": {}
        }
      ]
    },
    {
      "cell_type": "markdown",
      "source": [
        "##Pre-Modeling Data Preprocessing"
      ],
      "metadata": {
        "id": "CG8ebaTiyqsW"
      }
    },
    {
      "cell_type": "markdown",
      "source": [
        "1. This code converts age as categorical variable to a continuous approximation by assuming mid-point of each age-category as the actual age value. This is done to avoid having to deal with age as a dummy variable in the models which makes interpretation very cumbersome. Also, since age category is not purely nominal but ordinal, we do not want to lose that information by treating it as a simple categorical variable"
      ],
      "metadata": {
        "id": "FUcnJp-yy0dw"
      }
    },
    {
      "cell_type": "code",
      "source": [
        "df['age'] = df['age'].astype('int64')\n",
        "print(df.age.value_counts())\n",
        "# convert age categories to mid-point values\n",
        "age_dict = {1:5, 2:15, 3:25, 4:35, 5:45, 6:55, 7:65, 8:75, 9:85, 10:95}\n",
        "df['age'] = df.age.map(age_dict)\n",
        "print(df.age.value_counts())"
      ],
      "metadata": {
        "colab": {
          "base_uri": "https://localhost:8080/"
        },
        "id": "eqUj2Guky5ir",
        "outputId": "cdb4afbf-0357-47c4-c007-02d647fd7a8f"
      },
      "execution_count": null,
      "outputs": [
        {
          "output_type": "stream",
          "name": "stdout",
          "text": [
            "8     24815\n",
            "7     21521\n",
            "6     16546\n",
            "9     16223\n",
            "5      9208\n",
            "4      3538\n",
            "10     2594\n",
            "3      1471\n",
            "2       466\n",
            "1        64\n",
            "Name: age, dtype: int64\n",
            "75    24815\n",
            "65    21521\n",
            "55    16546\n",
            "85    16223\n",
            "45     9208\n",
            "35     3538\n",
            "95     2594\n",
            "25     1471\n",
            "15      466\n",
            "5        64\n",
            "Name: age, dtype: int64\n"
          ]
        }
      ]
    },
    {
      "cell_type": "code",
      "source": [
        "i = ['encounter_id', 'patient_nbr', 'gender', 'admission_type_id', 'discharge_disposition_id', 'admission_source_id',\\\n",
        "     'metformin', 'repaglinide', 'nateglinide', 'chlorpropamide', 'glimepiride', 'acetohexamide', \\\n",
        "     'glipizide', 'glyburide', 'tolbutamide', 'pioglitazone', 'rosiglitazone', 'acarbose', 'miglitol', \\\n",
        "     'troglitazone', 'tolazamide', 'insulin', 'glyburide-metformin', 'glipizide-metformin', \\\n",
        "     'glimepiride-pioglitazone', 'metformin-rosiglitazone', 'metformin-pioglitazone', 'change', 'diabetesMed', \\\n",
        "     'age', 'max_glu_serum', 'level1_diag1', 'level1_diag2', 'level1_diag3', 'level2_diag1', 'level2_diag2', 'level2_diag3']\n",
        "\n",
        "df[i] = df[i].astype('object')"
      ],
      "metadata": {
        "id": "L455fUbt1FP1"
      },
      "execution_count": null,
      "outputs": []
    },
    {
      "cell_type": "markdown",
      "source": [
        "2. Number of medication used: Another possibly related factor could be the total number of medications used by the patient (which may indicate severity of their condition and/or the intensity of care). So we created another feature by counting the medications used during the encounter (keys variable in code below is continued from above):"
      ],
      "metadata": {
        "id": "RqM-aMhi19Sv"
      }
    },
    {
      "cell_type": "code",
      "source": [
        "df['nummed'] = 0\n",
        "\n",
        "for col in keys:\n",
        "    df['nummed'] = df['nummed'] + df[col]\n",
        "df['nummed'].value_counts()"
      ],
      "metadata": {
        "colab": {
          "base_uri": "https://localhost:8080/"
        },
        "id": "HdLXqcg12Aom",
        "outputId": "4e019d2b-7b14-4e13-d06f-56e8ed855ce7"
      },
      "execution_count": null,
      "outputs": [
        {
          "output_type": "execute_result",
          "data": {
            "text/plain": [
              "1    44589\n",
              "0    22156\n",
              "2    20901\n",
              "3     7448\n",
              "4     1290\n",
              "5       57\n",
              "6        5\n",
              "Name: nummed, dtype: int64"
            ]
          },
          "metadata": {},
          "execution_count": 52
        }
      ]
    }
  ]
}